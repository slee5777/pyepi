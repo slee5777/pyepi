{
 "cells": [
  {
   "cell_type": "markdown",
   "metadata": {},
   "source": [
    "# Characters and Strings\n",
    "\n",
    "> with reference to EpiRHandbook Chapter 10"
   ]
  },
  {
   "cell_type": "raw",
   "metadata": {},
   "source": [
    "#| default_exp str"
   ]
  },
  {
   "cell_type": "code",
   "execution_count": null,
   "metadata": {},
   "outputs": [],
   "source": [
    "#|hide\n",
    "from nbdev import *\n",
    "from fastcore.test import *\n",
    "from fastcore.utils import *"
   ]
  },
  {
   "cell_type": "code",
   "execution_count": null,
   "metadata": {},
   "outputs": [],
   "source": [
    "import pandas as pd\n",
    "# import numpy as np\n",
    "# from scipy import stats\n",
    "# import matplotlib.pyplot as plt\n",
    "import matplotlib.style as style\n",
    "from datetime import datetime"
   ]
  },
  {
   "cell_type": "code",
   "execution_count": null,
   "metadata": {},
   "outputs": [],
   "source": [
    "#|hide\n",
    "# To use colourbind colour schemes (optional).  To get the color, see https://github.com/matplotlib/matplotlib/blob/main/lib/matplotlib/mpl-data/stylelib/tableau-colorblind10.mplstyle"
   ]
  },
  {
   "cell_type": "code",
   "execution_count": null,
   "metadata": {},
   "outputs": [],
   "source": [
    "#|hide\n",
    "style.use('tableau-colorblind10')"
   ]
  },
  {
   "cell_type": "code",
   "execution_count": null,
   "metadata": {},
   "outputs": [],
   "source": [
    "#|hide\n",
    "# set display options in pandas\n",
    "pd.set_option('display.max_columns', 100)  \n",
    "pd.set_option('display.max_rows',100)\n",
    "pd.set_option('display.width', 1000)"
   ]
  },
  {
   "cell_type": "markdown",
   "metadata": {},
   "source": [
    "## Data"
   ]
  },
  {
   "cell_type": "markdown",
   "metadata": {},
   "source": [
    "Import data from https://github.com/appliedepi/epiRhandbook_eng/blob/master/data/linelist_cleaned.xlsx and then save under \"epiRhandbook_data\" folder.  \n",
    "Note: Installation of \"openpyxl\" is required."
   ]
  },
  {
   "cell_type": "code",
   "execution_count": null,
   "metadata": {},
   "outputs": [
    {
     "data": {
      "text/html": [
       "<div>\n",
       "<style scoped>\n",
       "    .dataframe tbody tr th:only-of-type {\n",
       "        vertical-align: middle;\n",
       "    }\n",
       "\n",
       "    .dataframe tbody tr th {\n",
       "        vertical-align: top;\n",
       "    }\n",
       "\n",
       "    .dataframe thead th {\n",
       "        text-align: right;\n",
       "    }\n",
       "</style>\n",
       "<table border=\"1\" class=\"dataframe\">\n",
       "  <thead>\n",
       "    <tr style=\"text-align: right;\">\n",
       "      <th></th>\n",
       "      <th>case_id</th>\n",
       "      <th>generation</th>\n",
       "      <th>date_infection</th>\n",
       "      <th>date_onset</th>\n",
       "      <th>date_hospitalisation</th>\n",
       "      <th>date_outcome</th>\n",
       "      <th>outcome</th>\n",
       "      <th>gender</th>\n",
       "      <th>age</th>\n",
       "      <th>age_unit</th>\n",
       "      <th>age_years</th>\n",
       "      <th>age_cat</th>\n",
       "      <th>age_cat5</th>\n",
       "      <th>hospital</th>\n",
       "      <th>lon</th>\n",
       "      <th>lat</th>\n",
       "      <th>infector</th>\n",
       "      <th>source</th>\n",
       "      <th>wt_kg</th>\n",
       "      <th>ht_cm</th>\n",
       "      <th>ct_blood</th>\n",
       "      <th>fever</th>\n",
       "      <th>chills</th>\n",
       "      <th>cough</th>\n",
       "      <th>aches</th>\n",
       "      <th>vomit</th>\n",
       "      <th>temp</th>\n",
       "      <th>time_admission</th>\n",
       "      <th>bmi</th>\n",
       "      <th>days_onset_hosp</th>\n",
       "    </tr>\n",
       "  </thead>\n",
       "  <tbody>\n",
       "    <tr>\n",
       "      <th>0</th>\n",
       "      <td>5fe599</td>\n",
       "      <td>4</td>\n",
       "      <td>2014-05-08</td>\n",
       "      <td>2014-05-13</td>\n",
       "      <td>2014-05-15</td>\n",
       "      <td>NaT</td>\n",
       "      <td>NaN</td>\n",
       "      <td>m</td>\n",
       "      <td>2.0</td>\n",
       "      <td>years</td>\n",
       "      <td>2.0</td>\n",
       "      <td>0-4</td>\n",
       "      <td>0-4</td>\n",
       "      <td>Other</td>\n",
       "      <td>-13.215735</td>\n",
       "      <td>8.468973</td>\n",
       "      <td>f547d6</td>\n",
       "      <td>other</td>\n",
       "      <td>27</td>\n",
       "      <td>48</td>\n",
       "      <td>22</td>\n",
       "      <td>no</td>\n",
       "      <td>no</td>\n",
       "      <td>yes</td>\n",
       "      <td>no</td>\n",
       "      <td>yes</td>\n",
       "      <td>36.8</td>\n",
       "      <td>NaN</td>\n",
       "      <td>117.187500</td>\n",
       "      <td>2.0</td>\n",
       "    </tr>\n",
       "    <tr>\n",
       "      <th>1</th>\n",
       "      <td>8689b7</td>\n",
       "      <td>4</td>\n",
       "      <td>NaT</td>\n",
       "      <td>2014-05-13</td>\n",
       "      <td>2014-05-14</td>\n",
       "      <td>2014-05-18</td>\n",
       "      <td>Recover</td>\n",
       "      <td>f</td>\n",
       "      <td>3.0</td>\n",
       "      <td>years</td>\n",
       "      <td>3.0</td>\n",
       "      <td>0-4</td>\n",
       "      <td>0-4</td>\n",
       "      <td>Missing</td>\n",
       "      <td>-13.215234</td>\n",
       "      <td>8.451719</td>\n",
       "      <td>NaN</td>\n",
       "      <td>NaN</td>\n",
       "      <td>25</td>\n",
       "      <td>59</td>\n",
       "      <td>22</td>\n",
       "      <td>NaN</td>\n",
       "      <td>NaN</td>\n",
       "      <td>NaN</td>\n",
       "      <td>NaN</td>\n",
       "      <td>NaN</td>\n",
       "      <td>36.9</td>\n",
       "      <td>09:36</td>\n",
       "      <td>71.818443</td>\n",
       "      <td>1.0</td>\n",
       "    </tr>\n",
       "    <tr>\n",
       "      <th>2</th>\n",
       "      <td>11f8ea</td>\n",
       "      <td>2</td>\n",
       "      <td>NaT</td>\n",
       "      <td>2014-05-16</td>\n",
       "      <td>2014-05-18</td>\n",
       "      <td>2014-05-30</td>\n",
       "      <td>Recover</td>\n",
       "      <td>m</td>\n",
       "      <td>56.0</td>\n",
       "      <td>years</td>\n",
       "      <td>56.0</td>\n",
       "      <td>50-69</td>\n",
       "      <td>55-59</td>\n",
       "      <td>St. Mark's Maternity Hospital (SMMH)</td>\n",
       "      <td>-13.212911</td>\n",
       "      <td>8.464817</td>\n",
       "      <td>NaN</td>\n",
       "      <td>NaN</td>\n",
       "      <td>91</td>\n",
       "      <td>238</td>\n",
       "      <td>21</td>\n",
       "      <td>NaN</td>\n",
       "      <td>NaN</td>\n",
       "      <td>NaN</td>\n",
       "      <td>NaN</td>\n",
       "      <td>NaN</td>\n",
       "      <td>36.9</td>\n",
       "      <td>16:48</td>\n",
       "      <td>16.065250</td>\n",
       "      <td>2.0</td>\n",
       "    </tr>\n",
       "  </tbody>\n",
       "</table>\n",
       "</div>"
      ],
      "text/plain": [
       "  case_id  generation date_infection date_onset date_hospitalisation date_outcome  outcome gender   age age_unit  age_years age_cat age_cat5                              hospital        lon       lat infector source  wt_kg  ht_cm  ct_blood fever chills cough aches vomit  temp time_admission         bmi  days_onset_hosp\n",
       "0  5fe599           4     2014-05-08 2014-05-13           2014-05-15          NaT      NaN      m   2.0    years        2.0     0-4      0-4                                 Other -13.215735  8.468973   f547d6  other     27     48        22    no     no   yes    no   yes  36.8            NaN  117.187500              2.0\n",
       "1  8689b7           4            NaT 2014-05-13           2014-05-14   2014-05-18  Recover      f   3.0    years        3.0     0-4      0-4                               Missing -13.215234  8.451719      NaN    NaN     25     59        22   NaN    NaN   NaN   NaN   NaN  36.9          09:36   71.818443              1.0\n",
       "2  11f8ea           2            NaT 2014-05-16           2014-05-18   2014-05-30  Recover      m  56.0    years       56.0   50-69    55-59  St. Mark's Maternity Hospital (SMMH) -13.212911  8.464817      NaN    NaN     91    238        21   NaN    NaN   NaN   NaN   NaN  36.9          16:48   16.065250              2.0"
      ]
     },
     "execution_count": null,
     "metadata": {},
     "output_type": "execute_result"
    }
   ],
   "source": [
    "linelist = pd.read_excel('../epiRhandbook_data/linelist_cleaned.xlsx')\n",
    "linelist.head(3)"
   ]
  },
  {
   "cell_type": "markdown",
   "metadata": {},
   "source": [
    "# Unite, Split, and Arrange"
   ]
  },
  {
   "cell_type": "code",
   "execution_count": null,
   "metadata": {},
   "outputs": [],
   "source": [
    "str_1 = \"String1\"\n",
    "str_2 = \"String2\" \n",
    "str_3 = \"String3\""
   ]
  },
  {
   "cell_type": "markdown",
   "metadata": {},
   "source": [
    "## Combine Strings"
   ]
  },
  {
   "cell_type": "code",
   "execution_count": null,
   "metadata": {},
   "outputs": [
    {
     "data": {
      "text/plain": [
       "'String1String2String3'"
      ]
     },
     "execution_count": null,
     "metadata": {},
     "output_type": "execute_result"
    }
   ],
   "source": [
    "str_c = str_1 + str_2 + str_3\n",
    "str_c"
   ]
  },
  {
   "cell_type": "code",
   "execution_count": null,
   "metadata": {},
   "outputs": [
    {
     "data": {
      "text/plain": [
       "'String1 String2 String3'"
      ]
     },
     "execution_count": null,
     "metadata": {},
     "output_type": "execute_result"
    }
   ],
   "source": [
    "combined_string = \" \".join([str_1, str_2, str_3])\n",
    "combined_string"
   ]
  },
  {
   "cell_type": "code",
   "execution_count": null,
   "metadata": {},
   "outputs": [
    {
     "name": "stdout",
     "output_type": "stream",
     "text": [
      "[('abdul', 'hussein'), ('fahruk', 'akinleye'), ('janice', 'okeke')]\n"
     ]
    },
    {
     "data": {
      "text/plain": [
       "'abdul hussein;  fahruk akinleye;  janice okeke'"
      ]
     },
     "execution_count": null,
     "metadata": {},
     "output_type": "execute_result"
    }
   ],
   "source": [
    "first_names = (\"abdul\", \"fahruk\", \"janice\") \n",
    "last_names  = (\"hussein\", \"akinleye\", \"okeke\")\n",
    "names = list(zip(first_names, last_names))\n",
    "print(names)\n",
    "combined_names = [f\"{first} {last}\" for first, last in names]\n",
    "\";  \".join(combined_names)"
   ]
  },
  {
   "cell_type": "code",
   "execution_count": null,
   "metadata": {},
   "outputs": [
    {
     "name": "stdout",
     "output_type": "stream",
     "text": [
      "abdul hussein; \n",
      "fahruk akinleye; \n",
      "janice okeke\n"
     ]
    }
   ],
   "source": [
    "print(\"; \\n\".join(combined_names))"
   ]
  },
  {
   "cell_type": "markdown",
   "metadata": {},
   "source": [
    "## Dynamic Strings"
   ]
  },
  {
   "cell_type": "code",
   "execution_count": null,
   "metadata": {},
   "outputs": [
    {
     "name": "stdout",
     "output_type": "stream",
     "text": [
      "Data include 5888 cases and are current to 09 Jan 2023.\n"
     ]
    }
   ],
   "source": [
    "print(f\"Data include {len(linelist)} cases and are current to {format(datetime.now(), '%d %b %Y')}.\")"
   ]
  },
  {
   "cell_type": "code",
   "execution_count": null,
   "metadata": {},
   "outputs": [],
   "source": [
    "current_date  = format(datetime.now(), '%d %b %Y')\n",
    "last_hospital = format((max(linelist['date_hospitalisation'])), '%d %B %Y')"
   ]
  },
  {
   "cell_type": "code",
   "execution_count": null,
   "metadata": {},
   "outputs": [
    {
     "data": {
      "text/plain": [
       "'30 April 2015'"
      ]
     },
     "execution_count": null,
     "metadata": {},
     "output_type": "execute_result"
    }
   ],
   "source": [
    "last_hospital"
   ]
  },
  {
   "cell_type": "code",
   "execution_count": null,
   "metadata": {},
   "outputs": [
    {
     "data": {
      "text/plain": [
       "256"
      ]
     },
     "execution_count": null,
     "metadata": {},
     "output_type": "execute_result"
    }
   ],
   "source": [
    "n_missing_onset = linelist['date_onset'].isnull().sum()\n",
    "n_missing_onset"
   ]
  },
  {
   "cell_type": "code",
   "execution_count": null,
   "metadata": {},
   "outputs": [
    {
     "name": "stdout",
     "output_type": "stream",
     "text": [
      "Linelist as of 09 Jan 2023.\n",
      "Last case hospitalized on 30 April 2015.\n",
      "256 cases are missing date of onset and not shown.\n"
     ]
    }
   ],
   "source": [
    "print(f\"Linelist as of {current_date}.\\nLast case hospitalized on {last_hospital}.\\n{n_missing_onset} cases are missing date of onset and not shown.\")"
   ]
  },
  {
   "cell_type": "markdown",
   "metadata": {},
   "source": [
    "## Pulling from a Dataframe "
   ]
  },
  {
   "cell_type": "code",
   "execution_count": null,
   "metadata": {},
   "outputs": [
    {
     "data": {
      "text/html": [
       "<div>\n",
       "<style scoped>\n",
       "    .dataframe tbody tr th:only-of-type {\n",
       "        vertical-align: middle;\n",
       "    }\n",
       "\n",
       "    .dataframe tbody tr th {\n",
       "        vertical-align: top;\n",
       "    }\n",
       "\n",
       "    .dataframe thead th {\n",
       "        text-align: right;\n",
       "    }\n",
       "</style>\n",
       "<table border=\"1\" class=\"dataframe\">\n",
       "  <thead>\n",
       "    <tr style=\"text-align: right;\">\n",
       "      <th></th>\n",
       "      <th>zone</th>\n",
       "      <th>new_cases</th>\n",
       "      <th>total_cases</th>\n",
       "    </tr>\n",
       "  </thead>\n",
       "  <tbody>\n",
       "    <tr>\n",
       "      <th>0</th>\n",
       "      <td>Zone 1</td>\n",
       "      <td>3</td>\n",
       "      <td>40</td>\n",
       "    </tr>\n",
       "    <tr>\n",
       "      <th>1</th>\n",
       "      <td>Zone 2</td>\n",
       "      <td>0</td>\n",
       "      <td>4</td>\n",
       "    </tr>\n",
       "    <tr>\n",
       "      <th>2</th>\n",
       "      <td>Zone 3</td>\n",
       "      <td>7</td>\n",
       "      <td>25</td>\n",
       "    </tr>\n",
       "    <tr>\n",
       "      <th>3</th>\n",
       "      <td>Zone 4</td>\n",
       "      <td>0</td>\n",
       "      <td>10</td>\n",
       "    </tr>\n",
       "    <tr>\n",
       "      <th>4</th>\n",
       "      <td>Zone 5</td>\n",
       "      <td>15</td>\n",
       "      <td>103</td>\n",
       "    </tr>\n",
       "  </tbody>\n",
       "</table>\n",
       "</div>"
      ],
      "text/plain": [
       "     zone  new_cases  total_cases\n",
       "0  Zone 1          3           40\n",
       "1  Zone 2          0            4\n",
       "2  Zone 3          7           25\n",
       "3  Zone 4          0           10\n",
       "4  Zone 5         15          103"
      ]
     },
     "execution_count": null,
     "metadata": {},
     "output_type": "execute_result"
    }
   ],
   "source": [
    "zone        = (\"Zone 1\", \"Zone 2\", \"Zone 3\", \"Zone 4\", \"Zone 5\")\n",
    "new_cases   = (3, 0, 7, 0, 15)\n",
    "total_cases = (40, 4, 25, 10, 103)\n",
    "df = pd.DataFrame(list(zip(zone, new_cases, total_cases)), columns=['zone', 'new_cases', 'total_cases'])\n",
    "df"
   ]
  },
  {
   "cell_type": "code",
   "execution_count": null,
   "metadata": {},
   "outputs": [
    {
     "name": "stdout",
     "output_type": "stream",
     "text": [
      "Zone 1: 3 (40 total cases)\n",
      "Zone 2: 0 (4 total cases)\n",
      "Zone 3: 7 (25 total cases)\n",
      "Zone 4: 0 (10 total cases)\n",
      "Zone 5: 15 (103 total cases)\n"
     ]
    }
   ],
   "source": [
    "for index, row in df.iterrows():\n",
    "    print(f\"{row['zone']}: {row['new_cases']} ({row['total_cases']} total cases)\")"
   ]
  },
  {
   "cell_type": "markdown",
   "metadata": {},
   "source": [
    "## Data frame to one line"
   ]
  },
  {
   "cell_type": "code",
   "execution_count": null,
   "metadata": {},
   "outputs": [
    {
     "name": "stdout",
     "output_type": "stream",
     "text": [
      "Zone 1= 3\n",
      "Zone 2= 0\n",
      "Zone 3= 7\n",
      "Zone 4= 0\n",
      "Zone 5= 15\n"
     ]
    }
   ],
   "source": [
    "for index, row in df.iterrows():\n",
    "    print(f\"{row['zone']}= {row['new_cases']}\")"
   ]
  },
  {
   "cell_type": "code",
   "execution_count": null,
   "metadata": {},
   "outputs": [
    {
     "data": {
      "text/plain": [
       "['Zone 1= 3', 'Zone 2= 0', 'Zone 3= 7', 'Zone 4= 0', 'Zone 5= 15']"
      ]
     },
     "execution_count": null,
     "metadata": {},
     "output_type": "execute_result"
    }
   ],
   "source": [
    "results = [f\"{row['zone']}= {row['new_cases']}\" for _, row in df.iterrows()]\n",
    "results"
   ]
  },
  {
   "cell_type": "markdown",
   "metadata": {},
   "source": [
    "## Unite Columns"
   ]
  },
  {
   "cell_type": "code",
   "execution_count": null,
   "metadata": {},
   "outputs": [],
   "source": [
    "case_ID = range(1,7)\n",
    "symptoms = (\"jaundice, fever, chills\",  # patient 1\n",
    "         \"chills, aches, pains\",        # patient 2 \n",
    "         \"fever\",                       # patient 3\n",
    "         \"vomiting, diarrhoea\",         # patient 4\n",
    "         \"bleeding from gums, fever\",   # patient 5\n",
    "         \"rapid pulse, headache\")       # patient 6\n",
    "outcome = (\"Recover\", \"Death\", \"Death\", \"Recover\", \"Recover\", \"Recover\")"
   ]
  },
  {
   "cell_type": "code",
   "execution_count": null,
   "metadata": {},
   "outputs": [
    {
     "data": {
      "text/html": [
       "<div>\n",
       "<style scoped>\n",
       "    .dataframe tbody tr th:only-of-type {\n",
       "        vertical-align: middle;\n",
       "    }\n",
       "\n",
       "    .dataframe tbody tr th {\n",
       "        vertical-align: top;\n",
       "    }\n",
       "\n",
       "    .dataframe thead th {\n",
       "        text-align: right;\n",
       "    }\n",
       "</style>\n",
       "<table border=\"1\" class=\"dataframe\">\n",
       "  <thead>\n",
       "    <tr style=\"text-align: right;\">\n",
       "      <th></th>\n",
       "      <th>case_ID</th>\n",
       "      <th>symtons</th>\n",
       "      <th>outcome</th>\n",
       "    </tr>\n",
       "  </thead>\n",
       "  <tbody>\n",
       "    <tr>\n",
       "      <th>0</th>\n",
       "      <td>1</td>\n",
       "      <td>jaundice, fever, chills</td>\n",
       "      <td>Recover</td>\n",
       "    </tr>\n",
       "    <tr>\n",
       "      <th>1</th>\n",
       "      <td>2</td>\n",
       "      <td>chills, aches, pains</td>\n",
       "      <td>Death</td>\n",
       "    </tr>\n",
       "    <tr>\n",
       "      <th>2</th>\n",
       "      <td>3</td>\n",
       "      <td>fever</td>\n",
       "      <td>Death</td>\n",
       "    </tr>\n",
       "    <tr>\n",
       "      <th>3</th>\n",
       "      <td>4</td>\n",
       "      <td>vomiting, diarrhoea</td>\n",
       "      <td>Recover</td>\n",
       "    </tr>\n",
       "    <tr>\n",
       "      <th>4</th>\n",
       "      <td>5</td>\n",
       "      <td>bleeding from gums, fever</td>\n",
       "      <td>Recover</td>\n",
       "    </tr>\n",
       "    <tr>\n",
       "      <th>5</th>\n",
       "      <td>6</td>\n",
       "      <td>rapid pulse, headache</td>\n",
       "      <td>Recover</td>\n",
       "    </tr>\n",
       "  </tbody>\n",
       "</table>\n",
       "</div>"
      ],
      "text/plain": [
       "   case_ID                    symtons  outcome\n",
       "0        1    jaundice, fever, chills  Recover\n",
       "1        2       chills, aches, pains    Death\n",
       "2        3                      fever    Death\n",
       "3        4        vomiting, diarrhoea  Recover\n",
       "4        5  bleeding from gums, fever  Recover\n",
       "5        6      rapid pulse, headache  Recover"
      ]
     },
     "execution_count": null,
     "metadata": {},
     "output_type": "execute_result"
    }
   ],
   "source": [
    "df = pd.DataFrame(list(zip(case_ID, symptoms, outcome)), columns=['case_ID', 'symtons', 'outcome'])\n",
    "df"
   ]
  },
  {
   "cell_type": "code",
   "execution_count": null,
   "metadata": {},
   "outputs": [
    {
     "data": {
      "text/html": [
       "<div>\n",
       "<style scoped>\n",
       "    .dataframe tbody tr th:only-of-type {\n",
       "        vertical-align: middle;\n",
       "    }\n",
       "\n",
       "    .dataframe tbody tr th {\n",
       "        vertical-align: top;\n",
       "    }\n",
       "\n",
       "    .dataframe thead th {\n",
       "        text-align: right;\n",
       "    }\n",
       "</style>\n",
       "<table border=\"1\" class=\"dataframe\">\n",
       "  <thead>\n",
       "    <tr style=\"text-align: right;\">\n",
       "      <th></th>\n",
       "      <th>case_ID</th>\n",
       "      <th>sym1</th>\n",
       "      <th>sym2</th>\n",
       "      <th>sym3</th>\n",
       "      <th>outcome</th>\n",
       "    </tr>\n",
       "  </thead>\n",
       "  <tbody>\n",
       "    <tr>\n",
       "      <th>0</th>\n",
       "      <td>1</td>\n",
       "      <td>jaundice</td>\n",
       "      <td>fever</td>\n",
       "      <td>chills</td>\n",
       "      <td>Recover</td>\n",
       "    </tr>\n",
       "    <tr>\n",
       "      <th>1</th>\n",
       "      <td>2</td>\n",
       "      <td>chills</td>\n",
       "      <td>aches</td>\n",
       "      <td>pains</td>\n",
       "      <td>Death</td>\n",
       "    </tr>\n",
       "    <tr>\n",
       "      <th>2</th>\n",
       "      <td>3</td>\n",
       "      <td>fever</td>\n",
       "      <td>None</td>\n",
       "      <td>None</td>\n",
       "      <td>Death</td>\n",
       "    </tr>\n",
       "    <tr>\n",
       "      <th>3</th>\n",
       "      <td>4</td>\n",
       "      <td>vomiting</td>\n",
       "      <td>diarrhoea</td>\n",
       "      <td>None</td>\n",
       "      <td>Recover</td>\n",
       "    </tr>\n",
       "    <tr>\n",
       "      <th>4</th>\n",
       "      <td>5</td>\n",
       "      <td>bleeding from gums</td>\n",
       "      <td>fever</td>\n",
       "      <td>None</td>\n",
       "      <td>Recover</td>\n",
       "    </tr>\n",
       "    <tr>\n",
       "      <th>5</th>\n",
       "      <td>6</td>\n",
       "      <td>rapid pulse</td>\n",
       "      <td>headache</td>\n",
       "      <td>None</td>\n",
       "      <td>Recover</td>\n",
       "    </tr>\n",
       "  </tbody>\n",
       "</table>\n",
       "</div>"
      ],
      "text/plain": [
       "   case_ID                sym1       sym2    sym3  outcome\n",
       "0        1            jaundice      fever  chills  Recover\n",
       "1        2              chills      aches   pains    Death\n",
       "2        3               fever       None    None    Death\n",
       "3        4            vomiting  diarrhoea    None  Recover\n",
       "4        5  bleeding from gums      fever    None  Recover\n",
       "5        6         rapid pulse   headache    None  Recover"
      ]
     },
     "execution_count": null,
     "metadata": {},
     "output_type": "execute_result"
    }
   ],
   "source": [
    "df_split = pd.concat([df[['case_ID']], df['symtons'].str.split(', ', expand=True), df['outcome']], axis=1)\n",
    "df_split = df_split.rename({0: 'sym1', 1: 'sym2', 2:'sym3'}, axis='columns')\n",
    "df_split"
   ]
  },
  {
   "cell_type": "markdown",
   "metadata": {},
   "source": [
    "## combine columns using `+` Operator (Not working if there are empty cells)"
   ]
  },
  {
   "cell_type": "code",
   "execution_count": null,
   "metadata": {},
   "outputs": [
    {
     "data": {
      "text/html": [
       "<div>\n",
       "<style scoped>\n",
       "    .dataframe tbody tr th:only-of-type {\n",
       "        vertical-align: middle;\n",
       "    }\n",
       "\n",
       "    .dataframe tbody tr th {\n",
       "        vertical-align: top;\n",
       "    }\n",
       "\n",
       "    .dataframe thead th {\n",
       "        text-align: right;\n",
       "    }\n",
       "</style>\n",
       "<table border=\"1\" class=\"dataframe\">\n",
       "  <thead>\n",
       "    <tr style=\"text-align: right;\">\n",
       "      <th></th>\n",
       "      <th>case_ID</th>\n",
       "      <th>sym1</th>\n",
       "      <th>sym2</th>\n",
       "      <th>sym3</th>\n",
       "      <th>outcome</th>\n",
       "      <th>all_symptons</th>\n",
       "    </tr>\n",
       "  </thead>\n",
       "  <tbody>\n",
       "    <tr>\n",
       "      <th>0</th>\n",
       "      <td>1</td>\n",
       "      <td>jaundice</td>\n",
       "      <td>fever</td>\n",
       "      <td>chills</td>\n",
       "      <td>Recover</td>\n",
       "      <td>jaundice, fever, chills</td>\n",
       "    </tr>\n",
       "    <tr>\n",
       "      <th>1</th>\n",
       "      <td>2</td>\n",
       "      <td>chills</td>\n",
       "      <td>aches</td>\n",
       "      <td>pains</td>\n",
       "      <td>Death</td>\n",
       "      <td>chills, aches, pains</td>\n",
       "    </tr>\n",
       "    <tr>\n",
       "      <th>2</th>\n",
       "      <td>3</td>\n",
       "      <td>fever</td>\n",
       "      <td>None</td>\n",
       "      <td>None</td>\n",
       "      <td>Death</td>\n",
       "      <td>NaN</td>\n",
       "    </tr>\n",
       "    <tr>\n",
       "      <th>3</th>\n",
       "      <td>4</td>\n",
       "      <td>vomiting</td>\n",
       "      <td>diarrhoea</td>\n",
       "      <td>None</td>\n",
       "      <td>Recover</td>\n",
       "      <td>NaN</td>\n",
       "    </tr>\n",
       "    <tr>\n",
       "      <th>4</th>\n",
       "      <td>5</td>\n",
       "      <td>bleeding from gums</td>\n",
       "      <td>fever</td>\n",
       "      <td>None</td>\n",
       "      <td>Recover</td>\n",
       "      <td>NaN</td>\n",
       "    </tr>\n",
       "    <tr>\n",
       "      <th>5</th>\n",
       "      <td>6</td>\n",
       "      <td>rapid pulse</td>\n",
       "      <td>headache</td>\n",
       "      <td>None</td>\n",
       "      <td>Recover</td>\n",
       "      <td>NaN</td>\n",
       "    </tr>\n",
       "  </tbody>\n",
       "</table>\n",
       "</div>"
      ],
      "text/plain": [
       "   case_ID                sym1       sym2    sym3  outcome             all_symptons\n",
       "0        1            jaundice      fever  chills  Recover  jaundice, fever, chills\n",
       "1        2              chills      aches   pains    Death     chills, aches, pains\n",
       "2        3               fever       None    None    Death                      NaN\n",
       "3        4            vomiting  diarrhoea    None  Recover                      NaN\n",
       "4        5  bleeding from gums      fever    None  Recover                      NaN\n",
       "5        6         rapid pulse   headache    None  Recover                      NaN"
      ]
     },
     "execution_count": null,
     "metadata": {},
     "output_type": "execute_result"
    }
   ],
   "source": [
    "df_split['all_symptons'] = df_split['sym1'] + \", \" + df_split['sym2'] + \", \" + df_split['sym3']\n",
    "df_split"
   ]
  },
  {
   "cell_type": "markdown",
   "metadata": {},
   "source": [
    "### Using `.apply()` Method to Combine String Columns"
   ]
  },
  {
   "cell_type": "markdown",
   "metadata": {},
   "source": [
    "Important: fill None with \" \""
   ]
  },
  {
   "cell_type": "code",
   "execution_count": null,
   "metadata": {},
   "outputs": [],
   "source": [
    "df_all = df_split.copy(deep=True)\n",
    "df_all_1 = df_all.fillna(\"\")"
   ]
  },
  {
   "cell_type": "code",
   "execution_count": null,
   "metadata": {},
   "outputs": [
    {
     "data": {
      "text/html": [
       "<div>\n",
       "<style scoped>\n",
       "    .dataframe tbody tr th:only-of-type {\n",
       "        vertical-align: middle;\n",
       "    }\n",
       "\n",
       "    .dataframe tbody tr th {\n",
       "        vertical-align: top;\n",
       "    }\n",
       "\n",
       "    .dataframe thead th {\n",
       "        text-align: right;\n",
       "    }\n",
       "</style>\n",
       "<table border=\"1\" class=\"dataframe\">\n",
       "  <thead>\n",
       "    <tr style=\"text-align: right;\">\n",
       "      <th></th>\n",
       "      <th>case_ID</th>\n",
       "      <th>sym1</th>\n",
       "      <th>sym2</th>\n",
       "      <th>sym3</th>\n",
       "      <th>outcome</th>\n",
       "      <th>all_symptons</th>\n",
       "    </tr>\n",
       "  </thead>\n",
       "  <tbody>\n",
       "    <tr>\n",
       "      <th>0</th>\n",
       "      <td>1</td>\n",
       "      <td>jaundice</td>\n",
       "      <td>fever</td>\n",
       "      <td>chills</td>\n",
       "      <td>Recover</td>\n",
       "      <td>jaundice fever chills</td>\n",
       "    </tr>\n",
       "    <tr>\n",
       "      <th>1</th>\n",
       "      <td>2</td>\n",
       "      <td>chills</td>\n",
       "      <td>aches</td>\n",
       "      <td>pains</td>\n",
       "      <td>Death</td>\n",
       "      <td>chills aches pains</td>\n",
       "    </tr>\n",
       "    <tr>\n",
       "      <th>2</th>\n",
       "      <td>3</td>\n",
       "      <td>fever</td>\n",
       "      <td></td>\n",
       "      <td></td>\n",
       "      <td>Death</td>\n",
       "      <td>fever</td>\n",
       "    </tr>\n",
       "    <tr>\n",
       "      <th>3</th>\n",
       "      <td>4</td>\n",
       "      <td>vomiting</td>\n",
       "      <td>diarrhoea</td>\n",
       "      <td></td>\n",
       "      <td>Recover</td>\n",
       "      <td>vomiting diarrhoea</td>\n",
       "    </tr>\n",
       "    <tr>\n",
       "      <th>4</th>\n",
       "      <td>5</td>\n",
       "      <td>bleeding from gums</td>\n",
       "      <td>fever</td>\n",
       "      <td></td>\n",
       "      <td>Recover</td>\n",
       "      <td>bleeding from gums fever</td>\n",
       "    </tr>\n",
       "    <tr>\n",
       "      <th>5</th>\n",
       "      <td>6</td>\n",
       "      <td>rapid pulse</td>\n",
       "      <td>headache</td>\n",
       "      <td></td>\n",
       "      <td>Recover</td>\n",
       "      <td>rapid pulse headache</td>\n",
       "    </tr>\n",
       "  </tbody>\n",
       "</table>\n",
       "</div>"
      ],
      "text/plain": [
       "   case_ID                sym1       sym2    sym3  outcome               all_symptons\n",
       "0        1            jaundice      fever  chills  Recover      jaundice fever chills\n",
       "1        2              chills      aches   pains    Death         chills aches pains\n",
       "2        3               fever                       Death                    fever  \n",
       "3        4            vomiting  diarrhoea          Recover        vomiting diarrhoea \n",
       "4        5  bleeding from gums      fever          Recover  bleeding from gums fever \n",
       "5        6         rapid pulse   headache          Recover      rapid pulse headache "
      ]
     },
     "execution_count": null,
     "metadata": {},
     "output_type": "execute_result"
    }
   ],
   "source": [
    "df_all_1['all_symptons'] = df_all_1[['sym1', 'sym2', 'sym3']].apply(lambda x: \" \".join(x), axis =1)\n",
    "df_all_1"
   ]
  },
  {
   "cell_type": "code",
   "execution_count": null,
   "metadata": {},
   "outputs": [
    {
     "data": {
      "text/html": [
       "<div>\n",
       "<style scoped>\n",
       "    .dataframe tbody tr th:only-of-type {\n",
       "        vertical-align: middle;\n",
       "    }\n",
       "\n",
       "    .dataframe tbody tr th {\n",
       "        vertical-align: top;\n",
       "    }\n",
       "\n",
       "    .dataframe thead th {\n",
       "        text-align: right;\n",
       "    }\n",
       "</style>\n",
       "<table border=\"1\" class=\"dataframe\">\n",
       "  <thead>\n",
       "    <tr style=\"text-align: right;\">\n",
       "      <th></th>\n",
       "      <th>case_ID</th>\n",
       "      <th>all_symptons</th>\n",
       "      <th>outcome</th>\n",
       "    </tr>\n",
       "  </thead>\n",
       "  <tbody>\n",
       "    <tr>\n",
       "      <th>0</th>\n",
       "      <td>1</td>\n",
       "      <td>jaundice fever chills</td>\n",
       "      <td>Recover</td>\n",
       "    </tr>\n",
       "    <tr>\n",
       "      <th>1</th>\n",
       "      <td>2</td>\n",
       "      <td>chills aches pains</td>\n",
       "      <td>Death</td>\n",
       "    </tr>\n",
       "    <tr>\n",
       "      <th>2</th>\n",
       "      <td>3</td>\n",
       "      <td>fever</td>\n",
       "      <td>Death</td>\n",
       "    </tr>\n",
       "    <tr>\n",
       "      <th>3</th>\n",
       "      <td>4</td>\n",
       "      <td>vomiting diarrhoea</td>\n",
       "      <td>Recover</td>\n",
       "    </tr>\n",
       "    <tr>\n",
       "      <th>4</th>\n",
       "      <td>5</td>\n",
       "      <td>bleeding from gums fever</td>\n",
       "      <td>Recover</td>\n",
       "    </tr>\n",
       "    <tr>\n",
       "      <th>5</th>\n",
       "      <td>6</td>\n",
       "      <td>rapid pulse headache</td>\n",
       "      <td>Recover</td>\n",
       "    </tr>\n",
       "  </tbody>\n",
       "</table>\n",
       "</div>"
      ],
      "text/plain": [
       "   case_ID               all_symptons  outcome\n",
       "0        1      jaundice fever chills  Recover\n",
       "1        2         chills aches pains    Death\n",
       "2        3                    fever      Death\n",
       "3        4        vomiting diarrhoea   Recover\n",
       "4        5  bleeding from gums fever   Recover\n",
       "5        6      rapid pulse headache   Recover"
      ]
     },
     "execution_count": null,
     "metadata": {},
     "output_type": "execute_result"
    }
   ],
   "source": [
    "df_all_1[['case_ID', 'all_symptons', 'outcome']]"
   ]
  },
  {
   "cell_type": "markdown",
   "metadata": {},
   "source": [
    "## Split"
   ]
  },
  {
   "cell_type": "code",
   "execution_count": null,
   "metadata": {},
   "outputs": [
    {
     "data": {
      "text/plain": [
       "['jaundice', ' fever', ' chills']"
      ]
     },
     "execution_count": null,
     "metadata": {},
     "output_type": "execute_result"
    }
   ],
   "source": [
    "string = \"jaundice, fever, chills\"\n",
    "string.split(',')"
   ]
  },
  {
   "cell_type": "code",
   "execution_count": null,
   "metadata": {},
   "outputs": [
    {
     "data": {
      "text/plain": [
       "['jaundice', 'fever', 'chills']"
      ]
     },
     "execution_count": null,
     "metadata": {},
     "output_type": "execute_result"
    }
   ],
   "source": [
    "string.split(', ')"
   ]
  },
  {
   "cell_type": "code",
   "execution_count": null,
   "metadata": {},
   "outputs": [
    {
     "data": {
      "text/plain": [
       "'fever'"
      ]
     },
     "execution_count": null,
     "metadata": {},
     "output_type": "execute_result"
    }
   ],
   "source": [
    "pt1_symptoms = string.split(', ')\n",
    "pt1_symptoms[1]"
   ]
  },
  {
   "cell_type": "code",
   "execution_count": null,
   "metadata": {},
   "outputs": [],
   "source": [
    "symptoms =   [\"jaundice, fever, chills\",     # patient 1\n",
    "              \"chills, aches, pains\",        # patient 2 \n",
    "              \"fever\",                       # patient 3\n",
    "              \"vomiting, diarrhoea\",         # patient 4\n",
    "              \"bleeding from gums, fever\",   # patient 5\n",
    "              \"rapid pulse, headache\"]       # patient 6"
   ]
  },
  {
   "cell_type": "code",
   "execution_count": null,
   "metadata": {},
   "outputs": [
    {
     "data": {
      "text/plain": [
       "'jaundice, fever, chills'"
      ]
     },
     "execution_count": null,
     "metadata": {},
     "output_type": "execute_result"
    }
   ],
   "source": [
    "symptoms[0]   # Python indexing starts from zero"
   ]
  },
  {
   "cell_type": "code",
   "execution_count": null,
   "metadata": {},
   "outputs": [
    {
     "data": {
      "text/plain": [
       "'chills, aches, pains'"
      ]
     },
     "execution_count": null,
     "metadata": {},
     "output_type": "execute_result"
    }
   ],
   "source": [
    "symptoms[1]"
   ]
  },
  {
   "cell_type": "code",
   "execution_count": null,
   "metadata": {},
   "outputs": [
    {
     "data": {
      "text/plain": [
       "'fever'"
      ]
     },
     "execution_count": null,
     "metadata": {},
     "output_type": "execute_result"
    }
   ],
   "source": [
    "symptoms[2]"
   ]
  },
  {
   "cell_type": "code",
   "execution_count": null,
   "metadata": {},
   "outputs": [
    {
     "data": {
      "text/plain": [
       "'vomiting, diarrhoea'"
      ]
     },
     "execution_count": null,
     "metadata": {},
     "output_type": "execute_result"
    }
   ],
   "source": [
    "symptoms[3]"
   ]
  },
  {
   "cell_type": "code",
   "execution_count": null,
   "metadata": {},
   "outputs": [
    {
     "data": {
      "text/plain": [
       "'bleeding from gums, fever'"
      ]
     },
     "execution_count": null,
     "metadata": {},
     "output_type": "execute_result"
    }
   ],
   "source": [
    "symptoms[4]"
   ]
  },
  {
   "cell_type": "code",
   "execution_count": null,
   "metadata": {},
   "outputs": [
    {
     "data": {
      "text/plain": [
       "'rapid pulse, headache'"
      ]
     },
     "execution_count": null,
     "metadata": {},
     "output_type": "execute_result"
    }
   ],
   "source": [
    "symptoms[5]"
   ]
  },
  {
   "cell_type": "code",
   "execution_count": null,
   "metadata": {},
   "outputs": [
    {
     "data": {
      "text/html": [
       "<div>\n",
       "<style scoped>\n",
       "    .dataframe tbody tr th:only-of-type {\n",
       "        vertical-align: middle;\n",
       "    }\n",
       "\n",
       "    .dataframe tbody tr th {\n",
       "        vertical-align: top;\n",
       "    }\n",
       "\n",
       "    .dataframe thead th {\n",
       "        text-align: right;\n",
       "    }\n",
       "</style>\n",
       "<table border=\"1\" class=\"dataframe\">\n",
       "  <thead>\n",
       "    <tr style=\"text-align: right;\">\n",
       "      <th></th>\n",
       "      <th>case_ID</th>\n",
       "      <th>symtons</th>\n",
       "      <th>outcome</th>\n",
       "    </tr>\n",
       "  </thead>\n",
       "  <tbody>\n",
       "    <tr>\n",
       "      <th>0</th>\n",
       "      <td>1</td>\n",
       "      <td>jaundice, fever, chills</td>\n",
       "      <td>Recover</td>\n",
       "    </tr>\n",
       "    <tr>\n",
       "      <th>1</th>\n",
       "      <td>2</td>\n",
       "      <td>chills, aches, pains</td>\n",
       "      <td>Death</td>\n",
       "    </tr>\n",
       "    <tr>\n",
       "      <th>2</th>\n",
       "      <td>3</td>\n",
       "      <td>fever</td>\n",
       "      <td>Death</td>\n",
       "    </tr>\n",
       "    <tr>\n",
       "      <th>3</th>\n",
       "      <td>4</td>\n",
       "      <td>vomiting, diarrhoea</td>\n",
       "      <td>Recover</td>\n",
       "    </tr>\n",
       "    <tr>\n",
       "      <th>4</th>\n",
       "      <td>5</td>\n",
       "      <td>bleeding from gums, fever</td>\n",
       "      <td>Recover</td>\n",
       "    </tr>\n",
       "    <tr>\n",
       "      <th>5</th>\n",
       "      <td>6</td>\n",
       "      <td>rapid pulse, headache</td>\n",
       "      <td>Recover</td>\n",
       "    </tr>\n",
       "  </tbody>\n",
       "</table>\n",
       "</div>"
      ],
      "text/plain": [
       "   case_ID                    symtons  outcome\n",
       "0        1    jaundice, fever, chills  Recover\n",
       "1        2       chills, aches, pains    Death\n",
       "2        3                      fever    Death\n",
       "3        4        vomiting, diarrhoea  Recover\n",
       "4        5  bleeding from gums, fever  Recover\n",
       "5        6      rapid pulse, headache  Recover"
      ]
     },
     "execution_count": null,
     "metadata": {},
     "output_type": "execute_result"
    }
   ],
   "source": [
    "df"
   ]
  },
  {
   "cell_type": "markdown",
   "metadata": {},
   "source": [
    "Note: `None` for empty cell"
   ]
  },
  {
   "cell_type": "code",
   "execution_count": null,
   "metadata": {},
   "outputs": [],
   "source": [
    "symt_all = df['symtons'].str.split(', ', expand=True)"
   ]
  },
  {
   "cell_type": "code",
   "execution_count": null,
   "metadata": {},
   "outputs": [
    {
     "data": {
      "text/html": [
       "<div>\n",
       "<style scoped>\n",
       "    .dataframe tbody tr th:only-of-type {\n",
       "        vertical-align: middle;\n",
       "    }\n",
       "\n",
       "    .dataframe tbody tr th {\n",
       "        vertical-align: top;\n",
       "    }\n",
       "\n",
       "    .dataframe thead th {\n",
       "        text-align: right;\n",
       "    }\n",
       "</style>\n",
       "<table border=\"1\" class=\"dataframe\">\n",
       "  <thead>\n",
       "    <tr style=\"text-align: right;\">\n",
       "      <th></th>\n",
       "      <th>sym1</th>\n",
       "      <th>sym2</th>\n",
       "      <th>sym3</th>\n",
       "    </tr>\n",
       "  </thead>\n",
       "  <tbody>\n",
       "    <tr>\n",
       "      <th>0</th>\n",
       "      <td>jaundice</td>\n",
       "      <td>fever</td>\n",
       "      <td>chills</td>\n",
       "    </tr>\n",
       "    <tr>\n",
       "      <th>1</th>\n",
       "      <td>chills</td>\n",
       "      <td>aches</td>\n",
       "      <td>pains</td>\n",
       "    </tr>\n",
       "    <tr>\n",
       "      <th>2</th>\n",
       "      <td>fever</td>\n",
       "      <td>None</td>\n",
       "      <td>None</td>\n",
       "    </tr>\n",
       "    <tr>\n",
       "      <th>3</th>\n",
       "      <td>vomiting</td>\n",
       "      <td>diarrhoea</td>\n",
       "      <td>None</td>\n",
       "    </tr>\n",
       "    <tr>\n",
       "      <th>4</th>\n",
       "      <td>bleeding from gums</td>\n",
       "      <td>fever</td>\n",
       "      <td>None</td>\n",
       "    </tr>\n",
       "    <tr>\n",
       "      <th>5</th>\n",
       "      <td>rapid pulse</td>\n",
       "      <td>headache</td>\n",
       "      <td>None</td>\n",
       "    </tr>\n",
       "  </tbody>\n",
       "</table>\n",
       "</div>"
      ],
      "text/plain": [
       "                 sym1       sym2    sym3\n",
       "0            jaundice      fever  chills\n",
       "1              chills      aches   pains\n",
       "2               fever       None    None\n",
       "3            vomiting  diarrhoea    None\n",
       "4  bleeding from gums      fever    None\n",
       "5         rapid pulse   headache    None"
      ]
     },
     "execution_count": null,
     "metadata": {},
     "output_type": "execute_result"
    }
   ],
   "source": [
    "symt_all = symt_all.rename({0: 'sym1', 1: 'sym2', 2: 'sym3'}, axis='columns')\n",
    "symt_all"
   ]
  },
  {
   "cell_type": "code",
   "execution_count": null,
   "metadata": {},
   "outputs": [],
   "source": [
    "symt_all = symt_all.fillna(\"\")"
   ]
  },
  {
   "cell_type": "code",
   "execution_count": null,
   "metadata": {},
   "outputs": [
    {
     "data": {
      "text/html": [
       "<div>\n",
       "<style scoped>\n",
       "    .dataframe tbody tr th:only-of-type {\n",
       "        vertical-align: middle;\n",
       "    }\n",
       "\n",
       "    .dataframe tbody tr th {\n",
       "        vertical-align: top;\n",
       "    }\n",
       "\n",
       "    .dataframe thead th {\n",
       "        text-align: right;\n",
       "    }\n",
       "</style>\n",
       "<table border=\"1\" class=\"dataframe\">\n",
       "  <thead>\n",
       "    <tr style=\"text-align: right;\">\n",
       "      <th></th>\n",
       "      <th>sym1</th>\n",
       "      <th>sym2</th>\n",
       "      <th>sym3</th>\n",
       "      <th>sym_2</th>\n",
       "    </tr>\n",
       "  </thead>\n",
       "  <tbody>\n",
       "    <tr>\n",
       "      <th>0</th>\n",
       "      <td>jaundice</td>\n",
       "      <td>fever</td>\n",
       "      <td>chills</td>\n",
       "      <td>fever chills</td>\n",
       "    </tr>\n",
       "    <tr>\n",
       "      <th>1</th>\n",
       "      <td>chills</td>\n",
       "      <td>aches</td>\n",
       "      <td>pains</td>\n",
       "      <td>aches pains</td>\n",
       "    </tr>\n",
       "    <tr>\n",
       "      <th>2</th>\n",
       "      <td>fever</td>\n",
       "      <td></td>\n",
       "      <td></td>\n",
       "      <td></td>\n",
       "    </tr>\n",
       "    <tr>\n",
       "      <th>3</th>\n",
       "      <td>vomiting</td>\n",
       "      <td>diarrhoea</td>\n",
       "      <td></td>\n",
       "      <td>diarrhoea</td>\n",
       "    </tr>\n",
       "    <tr>\n",
       "      <th>4</th>\n",
       "      <td>bleeding from gums</td>\n",
       "      <td>fever</td>\n",
       "      <td></td>\n",
       "      <td>fever</td>\n",
       "    </tr>\n",
       "    <tr>\n",
       "      <th>5</th>\n",
       "      <td>rapid pulse</td>\n",
       "      <td>headache</td>\n",
       "      <td></td>\n",
       "      <td>headache</td>\n",
       "    </tr>\n",
       "  </tbody>\n",
       "</table>\n",
       "</div>"
      ],
      "text/plain": [
       "                 sym1       sym2    sym3         sym_2\n",
       "0            jaundice      fever  chills  fever chills\n",
       "1              chills      aches   pains   aches pains\n",
       "2               fever                                 \n",
       "3            vomiting  diarrhoea            diarrhoea \n",
       "4  bleeding from gums      fever                fever \n",
       "5         rapid pulse   headache             headache "
      ]
     },
     "execution_count": null,
     "metadata": {},
     "output_type": "execute_result"
    }
   ],
   "source": [
    "symt_all['sym_2'] = symt_all[['sym2', 'sym3']].apply(lambda x: \" \".join(x), axis =1)\n",
    "symt_all"
   ]
  },
  {
   "cell_type": "code",
   "execution_count": null,
   "metadata": {},
   "outputs": [
    {
     "data": {
      "text/html": [
       "<div>\n",
       "<style scoped>\n",
       "    .dataframe tbody tr th:only-of-type {\n",
       "        vertical-align: middle;\n",
       "    }\n",
       "\n",
       "    .dataframe tbody tr th {\n",
       "        vertical-align: top;\n",
       "    }\n",
       "\n",
       "    .dataframe thead th {\n",
       "        text-align: right;\n",
       "    }\n",
       "</style>\n",
       "<table border=\"1\" class=\"dataframe\">\n",
       "  <thead>\n",
       "    <tr style=\"text-align: right;\">\n",
       "      <th></th>\n",
       "      <th>case_ID</th>\n",
       "      <th>sym1</th>\n",
       "      <th>sym_2</th>\n",
       "      <th>outcome</th>\n",
       "    </tr>\n",
       "  </thead>\n",
       "  <tbody>\n",
       "    <tr>\n",
       "      <th>0</th>\n",
       "      <td>1</td>\n",
       "      <td>jaundice</td>\n",
       "      <td>fever chills</td>\n",
       "      <td>Recover</td>\n",
       "    </tr>\n",
       "    <tr>\n",
       "      <th>1</th>\n",
       "      <td>2</td>\n",
       "      <td>chills</td>\n",
       "      <td>aches pains</td>\n",
       "      <td>Death</td>\n",
       "    </tr>\n",
       "    <tr>\n",
       "      <th>2</th>\n",
       "      <td>3</td>\n",
       "      <td>fever</td>\n",
       "      <td></td>\n",
       "      <td>Death</td>\n",
       "    </tr>\n",
       "    <tr>\n",
       "      <th>3</th>\n",
       "      <td>4</td>\n",
       "      <td>vomiting</td>\n",
       "      <td>diarrhoea</td>\n",
       "      <td>Recover</td>\n",
       "    </tr>\n",
       "    <tr>\n",
       "      <th>4</th>\n",
       "      <td>5</td>\n",
       "      <td>bleeding from gums</td>\n",
       "      <td>fever</td>\n",
       "      <td>Recover</td>\n",
       "    </tr>\n",
       "    <tr>\n",
       "      <th>5</th>\n",
       "      <td>6</td>\n",
       "      <td>rapid pulse</td>\n",
       "      <td>headache</td>\n",
       "      <td>Recover</td>\n",
       "    </tr>\n",
       "  </tbody>\n",
       "</table>\n",
       "</div>"
      ],
      "text/plain": [
       "   case_ID                sym1         sym_2  outcome\n",
       "0        1            jaundice  fever chills  Recover\n",
       "1        2              chills   aches pains    Death\n",
       "2        3               fever                  Death\n",
       "3        4            vomiting    diarrhoea   Recover\n",
       "4        5  bleeding from gums        fever   Recover\n",
       "5        6         rapid pulse     headache   Recover"
      ]
     },
     "execution_count": null,
     "metadata": {},
     "output_type": "execute_result"
    }
   ],
   "source": [
    "df_split1 = pd.concat([df[['case_ID']], symt_all['sym1'], symt_all['sym_2'], df['outcome']], axis=1)\n",
    "df_split1"
   ]
  },
  {
   "cell_type": "markdown",
   "metadata": {},
   "source": [
    "Warnings: If limited the expanded columns, your data may be truncated."
   ]
  },
  {
   "cell_type": "code",
   "execution_count": null,
   "metadata": {},
   "outputs": [
    {
     "data": {
      "text/html": [
       "<div>\n",
       "<style scoped>\n",
       "    .dataframe tbody tr th:only-of-type {\n",
       "        vertical-align: middle;\n",
       "    }\n",
       "\n",
       "    .dataframe tbody tr th {\n",
       "        vertical-align: top;\n",
       "    }\n",
       "\n",
       "    .dataframe thead th {\n",
       "        text-align: right;\n",
       "    }\n",
       "</style>\n",
       "<table border=\"1\" class=\"dataframe\">\n",
       "  <thead>\n",
       "    <tr style=\"text-align: right;\">\n",
       "      <th></th>\n",
       "      <th>sym1</th>\n",
       "      <th>sym2</th>\n",
       "    </tr>\n",
       "  </thead>\n",
       "  <tbody>\n",
       "    <tr>\n",
       "      <th>0</th>\n",
       "      <td>jaundice</td>\n",
       "      <td>fever</td>\n",
       "    </tr>\n",
       "    <tr>\n",
       "      <th>1</th>\n",
       "      <td>chills</td>\n",
       "      <td>aches</td>\n",
       "    </tr>\n",
       "    <tr>\n",
       "      <th>2</th>\n",
       "      <td>fever</td>\n",
       "      <td></td>\n",
       "    </tr>\n",
       "    <tr>\n",
       "      <th>3</th>\n",
       "      <td>vomiting</td>\n",
       "      <td>diarrhoea</td>\n",
       "    </tr>\n",
       "    <tr>\n",
       "      <th>4</th>\n",
       "      <td>bleeding from gums</td>\n",
       "      <td>fever</td>\n",
       "    </tr>\n",
       "    <tr>\n",
       "      <th>5</th>\n",
       "      <td>rapid pulse</td>\n",
       "      <td>headache</td>\n",
       "    </tr>\n",
       "  </tbody>\n",
       "</table>\n",
       "</div>"
      ],
      "text/plain": [
       "                 sym1       sym2\n",
       "0            jaundice      fever\n",
       "1              chills      aches\n",
       "2               fever           \n",
       "3            vomiting  diarrhoea\n",
       "4  bleeding from gums      fever\n",
       "5         rapid pulse   headache"
      ]
     },
     "execution_count": null,
     "metadata": {},
     "output_type": "execute_result"
    }
   ],
   "source": [
    "symt2 = symt_all[symt_all.columns[0:2]]\n",
    "symt2"
   ]
  },
  {
   "cell_type": "code",
   "execution_count": null,
   "metadata": {},
   "outputs": [
    {
     "data": {
      "text/html": [
       "<div>\n",
       "<style scoped>\n",
       "    .dataframe tbody tr th:only-of-type {\n",
       "        vertical-align: middle;\n",
       "    }\n",
       "\n",
       "    .dataframe tbody tr th {\n",
       "        vertical-align: top;\n",
       "    }\n",
       "\n",
       "    .dataframe thead th {\n",
       "        text-align: right;\n",
       "    }\n",
       "</style>\n",
       "<table border=\"1\" class=\"dataframe\">\n",
       "  <thead>\n",
       "    <tr style=\"text-align: right;\">\n",
       "      <th></th>\n",
       "      <th>case_ID</th>\n",
       "      <th>sym1</th>\n",
       "      <th>sym2</th>\n",
       "      <th>outcome</th>\n",
       "    </tr>\n",
       "  </thead>\n",
       "  <tbody>\n",
       "    <tr>\n",
       "      <th>0</th>\n",
       "      <td>1</td>\n",
       "      <td>jaundice</td>\n",
       "      <td>fever</td>\n",
       "      <td>Recover</td>\n",
       "    </tr>\n",
       "    <tr>\n",
       "      <th>1</th>\n",
       "      <td>2</td>\n",
       "      <td>chills</td>\n",
       "      <td>aches</td>\n",
       "      <td>Death</td>\n",
       "    </tr>\n",
       "    <tr>\n",
       "      <th>2</th>\n",
       "      <td>3</td>\n",
       "      <td>fever</td>\n",
       "      <td></td>\n",
       "      <td>Death</td>\n",
       "    </tr>\n",
       "    <tr>\n",
       "      <th>3</th>\n",
       "      <td>4</td>\n",
       "      <td>vomiting</td>\n",
       "      <td>diarrhoea</td>\n",
       "      <td>Recover</td>\n",
       "    </tr>\n",
       "    <tr>\n",
       "      <th>4</th>\n",
       "      <td>5</td>\n",
       "      <td>bleeding from gums</td>\n",
       "      <td>fever</td>\n",
       "      <td>Recover</td>\n",
       "    </tr>\n",
       "    <tr>\n",
       "      <th>5</th>\n",
       "      <td>6</td>\n",
       "      <td>rapid pulse</td>\n",
       "      <td>headache</td>\n",
       "      <td>Recover</td>\n",
       "    </tr>\n",
       "  </tbody>\n",
       "</table>\n",
       "</div>"
      ],
      "text/plain": [
       "   case_ID                sym1       sym2  outcome\n",
       "0        1            jaundice      fever  Recover\n",
       "1        2              chills      aches    Death\n",
       "2        3               fever               Death\n",
       "3        4            vomiting  diarrhoea  Recover\n",
       "4        5  bleeding from gums      fever  Recover\n",
       "5        6         rapid pulse   headache  Recover"
      ]
     },
     "execution_count": null,
     "metadata": {},
     "output_type": "execute_result"
    }
   ],
   "source": [
    "df_split2 = pd.concat([df[['case_ID']], symt2, df['outcome']], axis=1)\n",
    "df_split2"
   ]
  },
  {
   "cell_type": "markdown",
   "metadata": {},
   "source": [
    "## Arrange Alphabetically"
   ]
  },
  {
   "cell_type": "code",
   "execution_count": null,
   "metadata": {},
   "outputs": [
    {
     "data": {
      "text/plain": [
       "['Alba', 'Delta', 'Takota']"
      ]
     },
     "execution_count": null,
     "metadata": {},
     "output_type": "execute_result"
    }
   ],
   "source": [
    "health_zones = [\"Alba\", \"Takota\", \"Delta\"]\n",
    "health_zones.sort()\n",
    "health_zones"
   ]
  },
  {
   "cell_type": "code",
   "execution_count": null,
   "metadata": {},
   "outputs": [],
   "source": [
    "n_beds = 10\n",
    "n_masks = 20"
   ]
  },
  {
   "cell_type": "code",
   "execution_count": null,
   "metadata": {},
   "outputs": [
    {
     "name": "stdout",
     "output_type": "stream",
     "text": [
      "Regional hospital needs 10 beds and 20 masks.\n"
     ]
    }
   ],
   "source": [
    "print(f\"Regional hospital needs\", n_beds, \"beds and\", n_masks, \"masks.\")"
   ]
  },
  {
   "cell_type": "code",
   "execution_count": null,
   "metadata": {},
   "outputs": [
    {
     "name": "stdout",
     "output_type": "stream",
     "text": [
      "Regional hospital needs 10 beds and 20 masks.\n"
     ]
    }
   ],
   "source": [
    "print(f\"Regional hospital needs {n_beds} beds and {n_masks} masks.\")"
   ]
  },
  {
   "cell_type": "markdown",
   "metadata": {},
   "source": [
    "# Clean and Standardise"
   ]
  },
  {
   "cell_type": "markdown",
   "metadata": {},
   "source": [
    "## Change Case"
   ]
  },
  {
   "cell_type": "code",
   "execution_count": null,
   "metadata": {},
   "outputs": [
    {
     "data": {
      "text/plain": [
       "'CALIFORNIA'"
      ]
     },
     "execution_count": null,
     "metadata": {},
     "output_type": "execute_result"
    }
   ],
   "source": [
    "str1 = \"California\"\n",
    "str1.upper()"
   ]
  },
  {
   "cell_type": "code",
   "execution_count": null,
   "metadata": {},
   "outputs": [
    {
     "data": {
      "text/plain": [
       "'california'"
      ]
     },
     "execution_count": null,
     "metadata": {},
     "output_type": "execute_result"
    }
   ],
   "source": [
    "str1.lower()"
   ]
  },
  {
   "cell_type": "code",
   "execution_count": null,
   "metadata": {},
   "outputs": [
    {
     "data": {
      "text/plain": [
       "'California'"
      ]
     },
     "execution_count": null,
     "metadata": {},
     "output_type": "execute_result"
    }
   ],
   "source": [
    "str1.title()"
   ]
  },
  {
   "cell_type": "markdown",
   "metadata": {},
   "source": [
    "## Title Case"
   ]
  },
  {
   "cell_type": "code",
   "execution_count": null,
   "metadata": {},
   "outputs": [
    {
     "data": {
      "text/plain": [
       "'Go To The Us State Of California '"
      ]
     },
     "execution_count": null,
     "metadata": {},
     "output_type": "execute_result"
    }
   ],
   "source": [
    "str2 = \"go to the US state of california \"\n",
    "str2.title()"
   ]
  },
  {
   "cell_type": "code",
   "execution_count": null,
   "metadata": {},
   "outputs": [
    {
     "data": {
      "text/plain": [
       "'The patient must be transported'"
      ]
     },
     "execution_count": null,
     "metadata": {},
     "output_type": "execute_result"
    }
   ],
   "source": [
    "str3 = \"the patient must be transported\"\n",
    "str3.capitalize()"
   ]
  },
  {
   "cell_type": "markdown",
   "metadata": {},
   "source": [
    "## Pad Length"
   ]
  },
  {
   "cell_type": "code",
   "execution_count": null,
   "metadata": {},
   "outputs": [
    {
     "data": {
      "text/plain": [
       "['R10.13 ', 'R10.819', 'R17    ']"
      ]
     },
     "execution_count": null,
     "metadata": {},
     "output_type": "execute_result"
    }
   ],
   "source": [
    "ICD_codes = [\"R10.13\", \"R10.819\", \"R17\"]\n",
    "[i.ljust(7) for i in ICD_codes]"
   ]
  },
  {
   "cell_type": "code",
   "execution_count": null,
   "metadata": {},
   "outputs": [
    {
     "data": {
      "text/plain": [
       "['R10.13.', 'R10.819', 'R17....']"
      ]
     },
     "execution_count": null,
     "metadata": {},
     "output_type": "execute_result"
    }
   ],
   "source": [
    "[i.ljust(7, '.') for i in ICD_codes]"
   ]
  },
  {
   "cell_type": "code",
   "execution_count": null,
   "metadata": {},
   "outputs": [
    {
     "data": {
      "text/plain": [
       "'04'"
      ]
     },
     "execution_count": null,
     "metadata": {},
     "output_type": "execute_result"
    }
   ],
   "source": [
    "str(4).rjust(2, '0')"
   ]
  },
  {
   "cell_type": "code",
   "execution_count": null,
   "metadata": {},
   "outputs": [
    {
     "data": {
      "text/plain": [
       "['00', '01', '02', '03']"
      ]
     },
     "execution_count": null,
     "metadata": {},
     "output_type": "execute_result"
    }
   ],
   "source": [
    "[str(i).rjust(2, '0') for i in range(0, 4)]"
   ]
  },
  {
   "cell_type": "markdown",
   "metadata": {},
   "source": [
    "## Truncate"
   ]
  },
  {
   "cell_type": "code",
   "execution_count": null,
   "metadata": {},
   "outputs": [],
   "source": [
    "original = \"Symptom onset on 4/3/2020 with vomiting\""
   ]
  },
  {
   "cell_type": "code",
   "execution_count": null,
   "metadata": {},
   "outputs": [
    {
     "data": {
      "text/plain": [
       "'Symp...ing'"
      ]
     },
     "execution_count": null,
     "metadata": {},
     "output_type": "execute_result"
    }
   ],
   "source": [
    "original[:4] + \"...\" + original[-3:]"
   ]
  },
  {
   "cell_type": "code",
   "execution_count": null,
   "metadata": {},
   "outputs": [
    {
     "data": {
      "text/plain": [
       "'Symptom...ing'"
      ]
     },
     "execution_count": null,
     "metadata": {},
     "output_type": "execute_result"
    }
   ],
   "source": [
    "import textwrap\n",
    "textwrap.shorten(\"Symptom onset on 4/3/2020 with vomiting\", width=10, placeholder=\"...\")+ original[-3:]"
   ]
  },
  {
   "cell_type": "markdown",
   "metadata": {},
   "source": [
    "## Standarize Length"
   ]
  },
  {
   "cell_type": "markdown",
   "metadata": {},
   "source": [
    "Set as length of 6"
   ]
  },
  {
   "cell_type": "code",
   "execution_count": null,
   "metadata": {},
   "outputs": [
    {
     "data": {
      "text/plain": [
       "['R10.13', 'R10.81', 'R17...']"
      ]
     },
     "execution_count": null,
     "metadata": {},
     "output_type": "execute_result"
    }
   ],
   "source": [
    "[i.ljust(6, \".\")[:6] for i in ICD_codes]"
   ]
  },
  {
   "cell_type": "markdown",
   "metadata": {},
   "source": [
    "## Remove leading/trailing whitespace"
   ]
  },
  {
   "cell_type": "code",
   "execution_count": null,
   "metadata": {},
   "outputs": [],
   "source": [
    "IDs =   [\"provA_1852  \", # two excess spaces\n",
    "         \"provA_2345\",   # zero excess spaces\n",
    "         \"provA_9460 \"]  # one excess space"
   ]
  },
  {
   "cell_type": "code",
   "execution_count": null,
   "metadata": {},
   "outputs": [
    {
     "data": {
      "text/plain": [
       "['provA_1852', 'provA_2345', 'provA_9460']"
      ]
     },
     "execution_count": null,
     "metadata": {},
     "output_type": "execute_result"
    }
   ],
   "source": [
    "[i.strip() for i in IDs]"
   ]
  },
  {
   "cell_type": "markdown",
   "metadata": {},
   "source": [
    "## Remove Repeated Whitespace within"
   ]
  },
  {
   "cell_type": "code",
   "execution_count": null,
   "metadata": {},
   "outputs": [
    {
     "data": {
      "text/plain": [
       "'  Pt requires   IV saline\\n'"
      ]
     },
     "execution_count": null,
     "metadata": {},
     "output_type": "execute_result"
    }
   ],
   "source": [
    "str_squish = \"  Pt requires   IV saline\\n\"\n",
    "str_squish"
   ]
  },
  {
   "cell_type": "code",
   "execution_count": null,
   "metadata": {},
   "outputs": [
    {
     "data": {
      "text/plain": [
       "'Pt requires IV saline'"
      ]
     },
     "execution_count": null,
     "metadata": {},
     "output_type": "execute_result"
    }
   ],
   "source": [
    "' '.join(str_squish.split())"
   ]
  },
  {
   "cell_type": "markdown",
   "metadata": {},
   "source": [
    "## Wrap into Paragraphs"
   ]
  },
  {
   "cell_type": "code",
   "execution_count": null,
   "metadata": {},
   "outputs": [
    {
     "data": {
      "text/plain": [
       "'Symptom onset 1/4/2020 vomiting chills fever. Pt saw traditional healer in home village on 2/4/2020. On 5/4/2020 pt symptoms worsened and was admitted to Lumta clinic. Sample was taken and pt was transported to regional hospital on 6/4/2020. Pt died at regional hospital on 7/4/2020.'"
      ]
     },
     "execution_count": null,
     "metadata": {},
     "output_type": "execute_result"
    }
   ],
   "source": [
    "pt_course = \"Symptom onset 1/4/2020 vomiting chills fever. Pt saw traditional healer in home village on 2/4/2020. On 5/4/2020 pt symptoms worsened and was admitted to Lumta clinic. Sample was taken and pt was transported to regional hospital on 6/4/2020. Pt died at regional hospital on 7/4/2020.\"\n",
    "pt_course"
   ]
  },
  {
   "cell_type": "code",
   "execution_count": null,
   "metadata": {},
   "outputs": [
    {
     "data": {
      "text/plain": [
       "['Symptom onset 1/4/2020 vomiting chills',\n",
       " 'fever. Pt saw traditional healer in home',\n",
       " 'village on 2/4/2020. On 5/4/2020 pt',\n",
       " 'symptoms worsened and was admitted to',\n",
       " 'Lumta clinic. Sample was taken and pt',\n",
       " 'was transported to regional hospital on',\n",
       " '6/4/2020. Pt died at regional hospital',\n",
       " 'on 7/4/2020.']"
      ]
     },
     "execution_count": null,
     "metadata": {},
     "output_type": "execute_result"
    }
   ],
   "source": [
    "textwrap.wrap(pt_course, 40)"
   ]
  },
  {
   "cell_type": "markdown",
   "metadata": {},
   "source": [
    "# Handle by Position"
   ]
  },
  {
   "cell_type": "code",
   "execution_count": null,
   "metadata": {},
   "outputs": [
    {
     "data": {
      "text/plain": [
       "'e'"
      ]
     },
     "execution_count": null,
     "metadata": {},
     "output_type": "execute_result"
    }
   ],
   "source": [
    "str_sub = \"pneumonia\"\n",
    "str_sub[2]   # 3rd letter from left"
   ]
  },
  {
   "cell_type": "code",
   "execution_count": null,
   "metadata": {},
   "outputs": [
    {
     "data": {
      "text/plain": [
       "'p'"
      ]
     },
     "execution_count": null,
     "metadata": {},
     "output_type": "execute_result"
    }
   ],
   "source": [
    "str_sub[0]   # Index zero is available in Python"
   ]
  },
  {
   "cell_type": "code",
   "execution_count": null,
   "metadata": {},
   "outputs": [
    {
     "data": {
      "text/plain": [
       "'onia'"
      ]
     },
     "execution_count": null,
     "metadata": {},
     "output_type": "execute_result"
    }
   ],
   "source": [
    "str_sub[-4:]  # 6th from left, to the 1st from right"
   ]
  },
  {
   "cell_type": "code",
   "execution_count": null,
   "metadata": {},
   "outputs": [
    {
     "data": {
      "text/plain": [
       "'moni'"
      ]
     },
     "execution_count": null,
     "metadata": {},
     "output_type": "execute_result"
    }
   ],
   "source": [
    "str_sub[4:-1]  # 5th from right, to the 2nd from right"
   ]
  },
  {
   "cell_type": "code",
   "execution_count": null,
   "metadata": {},
   "outputs": [
    {
     "data": {
      "text/plain": [
       "'umonia'"
      ]
     },
     "execution_count": null,
     "metadata": {},
     "output_type": "execute_result"
    }
   ],
   "source": [
    "str_sub[3:]  # 4th from left to a position outside the string"
   ]
  },
  {
   "cell_type": "markdown",
   "metadata": {},
   "source": [
    "## Extract by Word Position"
   ]
  },
  {
   "cell_type": "code",
   "execution_count": null,
   "metadata": {},
   "outputs": [],
   "source": [
    "chief_complaints =   [\"I just got out of the hospital 2 days ago, but still can barely breathe.\",\n",
    "                      \"My stomach hurts\",\n",
    "                      \"Severe ear pain\"]"
   ]
  },
  {
   "cell_type": "code",
   "execution_count": null,
   "metadata": {},
   "outputs": [
    {
     "data": {
      "text/plain": [
       "['I just got', 'My stomach hurts', 'Severe ear pain']"
      ]
     },
     "execution_count": null,
     "metadata": {},
     "output_type": "execute_result"
    }
   ],
   "source": [
    "[\" \".join(x.split()[:3]) for x in chief_complaints]  # extract 1st to 3rd words of each string"
   ]
  },
  {
   "cell_type": "markdown",
   "metadata": {},
   "source": [
    "## Replace by Character Position"
   ]
  },
  {
   "cell_type": "code",
   "execution_count": null,
   "metadata": {},
   "outputs": [],
   "source": [
    "word = \"pneumonia\""
   ]
  },
  {
   "cell_type": "code",
   "execution_count": null,
   "metadata": {},
   "outputs": [
    {
     "data": {
      "text/plain": [
       "'eu'"
      ]
     },
     "execution_count": null,
     "metadata": {},
     "output_type": "execute_result"
    }
   ],
   "source": [
    "word[2:4] "
   ]
  },
  {
   "cell_type": "code",
   "execution_count": null,
   "metadata": {},
   "outputs": [
    {
     "data": {
      "text/plain": [
       "'pnXXmonia'"
      ]
     },
     "execution_count": null,
     "metadata": {},
     "output_type": "execute_result"
    }
   ],
   "source": [
    "new_ele = \"XX\"\n",
    "word[:2] + new_ele + word[4:]  # convert the third and fourth characters to X "
   ]
  },
  {
   "cell_type": "code",
   "execution_count": null,
   "metadata": {},
   "outputs": [
    {
     "data": {
      "text/plain": [
       "['pnXXmonia', 'tuXXrcolosis', 'HIXX']"
      ]
     },
     "execution_count": null,
     "metadata": {},
     "output_type": "execute_result"
    }
   ],
   "source": [
    "words = \"pneumonia\", \"tubercolosis\", \"HIV\"\n",
    "[word[:2] + new_ele + word[4:] for word in words]"
   ]
  },
  {
   "cell_type": "markdown",
   "metadata": {},
   "source": [
    "# Patterns"
   ]
  },
  {
   "cell_type": "markdown",
   "metadata": {},
   "source": [
    "## Detect a pattern"
   ]
  },
  {
   "cell_type": "code",
   "execution_count": null,
   "metadata": {},
   "outputs": [],
   "source": [
    "string = \"primary school teacher\"\n",
    "pattern = 'teach'"
   ]
  },
  {
   "cell_type": "markdown",
   "metadata": {},
   "source": [
    "Note: If return a numeric number, that is the index of the given string.  If return -1, no pattern found."
   ]
  },
  {
   "cell_type": "code",
   "execution_count": null,
   "metadata": {},
   "outputs": [
    {
     "data": {
      "text/plain": [
       "15"
      ]
     },
     "execution_count": null,
     "metadata": {},
     "output_type": "execute_result"
    }
   ],
   "source": [
    "string.find(pattern) "
   ]
  },
  {
   "cell_type": "markdown",
   "metadata": {},
   "source": [
    "Note: Try to apply the pattern to all of the string, returning a Match object, or None if no match was found."
   ]
  },
  {
   "cell_type": "code",
   "execution_count": null,
   "metadata": {},
   "outputs": [],
   "source": [
    "import re\n",
    "re.fullmatch(pattern, string)"
   ]
  },
  {
   "cell_type": "code",
   "execution_count": null,
   "metadata": {},
   "outputs": [
    {
     "name": "stdout",
     "output_type": "stream",
     "text": [
      "FALSE\n"
     ]
    }
   ],
   "source": [
    "if not re.fullmatch(pattern, string):\n",
    "    print(\"FALSE\")"
   ]
  },
  {
   "cell_type": "code",
   "execution_count": null,
   "metadata": {},
   "outputs": [],
   "source": [
    "occupations = [\"field laborer\",\n",
    "                 \"university professor\",\n",
    "                 \"primary school teacher & tutor\",\n",
    "                 \"tutor\",\n",
    "                 \"nurse at regional hospital\",\n",
    "                 \"lineworker at Amberdeen Fish Factory\",\n",
    "                 \"physican\",\n",
    "                 \"cardiologist\",\n",
    "                 \"office worker\",\n",
    "                 \"food service\"]"
   ]
  },
  {
   "cell_type": "code",
   "execution_count": null,
   "metadata": {},
   "outputs": [
    {
     "data": {
      "text/plain": [
       "[False, False, True, False, False, False, False, False, False, False]"
      ]
     },
     "execution_count": null,
     "metadata": {},
     "output_type": "execute_result"
    }
   ],
   "source": [
    "[pattern in o for o in occupations]"
   ]
  },
  {
   "cell_type": "markdown",
   "metadata": {},
   "source": [
    "Using in a for loop:"
   ]
  },
  {
   "cell_type": "code",
   "execution_count": null,
   "metadata": {},
   "outputs": [
    {
     "data": {
      "text/plain": [
       "1"
      ]
     },
     "execution_count": null,
     "metadata": {},
     "output_type": "execute_result"
    }
   ],
   "source": [
    "n = 0\n",
    "for o in occupations:\n",
    "    if pattern in o:\n",
    "        n+=1\n",
    "n"
   ]
  },
  {
   "cell_type": "markdown",
   "metadata": {},
   "source": [
    "Or, using list comprehension"
   ]
  },
  {
   "cell_type": "code",
   "execution_count": null,
   "metadata": {},
   "outputs": [
    {
     "data": {
      "text/plain": [
       "1"
      ]
     },
     "execution_count": null,
     "metadata": {},
     "output_type": "execute_result"
    }
   ],
   "source": [
    "sum([1 if pattern in o else 0 for o in occupations])"
   ]
  },
  {
   "cell_type": "markdown",
   "metadata": {},
   "source": [
    "## Detect Multiple Terms, separated by OR bars `|`"
   ]
  },
  {
   "cell_type": "code",
   "execution_count": null,
   "metadata": {},
   "outputs": [],
   "source": [
    "pattern = r\"\\b(teach|professor|tutor)\\b\"  # Use raw string and word boundary anchors"
   ]
  },
  {
   "cell_type": "code",
   "execution_count": null,
   "metadata": {},
   "outputs": [
    {
     "name": "stdout",
     "output_type": "stream",
     "text": [
      "3\n"
     ]
    }
   ],
   "source": [
    "import re\n",
    "\n",
    "def count_occurrences(strings, pattern):\n",
    "    count = 0\n",
    "    for string in strings:\n",
    "        count += sum(1 for _ in re.finditer(pattern, string, re.IGNORECASE))\n",
    "    return count\n",
    "\n",
    "result = count_occurrences(strings=occupations, pattern=pattern)\n",
    "print(result)  # Expected output: 3"
   ]
  },
  {
   "cell_type": "code",
   "execution_count": null,
   "metadata": {},
   "outputs": [],
   "source": [
    "occupation_med_frontline =    [\"medical\", \"medicine\", \"hcw\", \"healthcare\", \"home care\", \"home health\",\n",
    "                                \"surgeon\", \"doctor\", \"doc\", \"physician\", \"surgery\", \"peds\", \"pediatrician\",\n",
    "                               \"intensivist\", \"cardiologist\", \"coroner\", \"nurse\", \"nursing\", \"rn\", \"lpn\",\n",
    "                               \"cna\", \"pa\", \"physician assistant\", \"mental health\",\n",
    "                               \"emergency department technician\", \"resp therapist\", \"respiratory\",\n",
    "                                \"phlebotomist\", \"pharmacy\", \"pharmacist\", \"hospital\", \"snf\", \"rehabilitation\",\n",
    "                               \"rehab\", \"activity\", \"elderly\", \"subacute\", \"sub acute\",\n",
    "                                \"clinic\", \"post acute\", \"therapist\", \"extended care\",\n",
    "                                \"dental\", \"dential\", \"dentist\"]"
   ]
  },
  {
   "cell_type": "code",
   "execution_count": null,
   "metadata": {},
   "outputs": [
    {
     "data": {
      "text/plain": [
       "'medical|medicine|hcw|healthcare|home care|home health|surgeon|doctor|doc|physician|surgery|peds|pediatrician|intensivist|cardiologist|coroner|nurse|nursing|rn|lpn|cna|pa|physician assistant|mental health|emergency department technician|resp therapist|respiratory|phlebotomist|pharmacy|pharmacist|hospital|snf|rehabilitation|rehab|activity|elderly|subacute|sub acute|clinic|post acute|therapist|extended care|dental|dential|dentist'"
      ]
     },
     "execution_count": null,
     "metadata": {},
     "output_type": "execute_result"
    }
   ],
   "source": [
    "med_pattern = str(\"|\".join(occupation_med_frontline))\n",
    "med_pattern"
   ]
  },
  {
   "cell_type": "code",
   "execution_count": null,
   "metadata": {},
   "outputs": [],
   "source": [
    "med_pattern = r\"\\b(medical|medicine|hcw|healthcare|home care|home health|surgeon|doctor|doc|physician|surgery|peds|pediatrician|intensivist|cardiologist|coroner|nurse|nursing|rn|lpn|cna|pa|physician assistant|mental health|emergency department technician|resp therapist|respiratory|phlebotomist|pharmacy|pharmacist|hospital|snf|rehabilitation|rehab|activity|elderly|subacute|sub acute|clinic|post acute|therapist|extended care|dental|dential|dentist)\\b\""
   ]
  },
  {
   "cell_type": "code",
   "execution_count": null,
   "metadata": {},
   "outputs": [
    {
     "name": "stdout",
     "output_type": "stream",
     "text": [
      "3\n"
     ]
    }
   ],
   "source": [
    "result = count_occurrences(strings=occupations, pattern=med_pattern)\n",
    "print(result)  ##expected answer is 2 #TODO debug  "
   ]
  },
  {
   "cell_type": "code",
   "execution_count": null,
   "metadata": {},
   "outputs": [
    {
     "name": "stdout",
     "output_type": "stream",
     "text": [
      "3\n"
     ]
    }
   ],
   "source": [
    "import re\n",
    "\n",
    "def count_occurrences(strings, pattern):\n",
    "    count = 0\n",
    "    for string in strings:\n",
    "        count += sum(1 for _ in re.finditer(pattern, string, re.IGNORECASE))\n",
    "    return count\n",
    "\n",
    "occupations = [\"field laborer\",\n",
    "                 \"university professor\",\n",
    "                 \"primary school teacher & tutor\",\n",
    "                 \"tutor\",\n",
    "                 \"nurse at regional hospital\",\n",
    "                 \"lineworker at Amberdeen Fish Factory\",\n",
    "                 \"physican\",\n",
    "                 \"cardiologist\",\n",
    "                 \"office worker\",\n",
    "                 \"food service\"]\n",
    "med_pattern = r\"\\b(medical|medicine|hcw|healthcare|home care|home health|surgeon|doctor|doc|physician|surgery|peds|pediatrician|intensivist|cardiologist|coroner|nurse|nursing|rn|lpn|cna|pa|physician assistant|mental health|emergency department technician|resp therapist|respiratory|phlebotomist|pharmacy|pharmacist|hospital|snf|rehabilitation|rehab|activity|elderly|subacute|sub acute|clinic|post acute|therapist|extended care|dental|dential|dentist)\\b\"\n",
    "\n",
    "result = count_occurrences(strings=occupations, pattern=med_pattern)\n",
    "print(result)  # Expected output: 2  #TODO debug\n"
   ]
  },
  {
   "cell_type": "markdown",
   "metadata": {},
   "source": [
    "## Convert Commas `,` to Period `.`"
   ]
  },
  {
   "cell_type": "code",
   "execution_count": null,
   "metadata": {},
   "outputs": [
    {
     "data": {
      "text/plain": [
       "[2454.56, 1.2, 6096.5]"
      ]
     },
     "execution_count": null,
     "metadata": {},
     "output_type": "execute_result"
    }
   ],
   "source": [
    "lengths = [\"2.454,56\", \"1,2\", \"6.096,5\"]\n",
    "\n",
    "# Replace periods and commas with no spaces and then convert the strings to floats\n",
    "y = [float(l.replace(\".\", \"\").replace(\",\", \".\")) for l in lengths]\n",
    "y"
   ]
  },
  {
   "cell_type": "markdown",
   "metadata": {},
   "source": [
    "## Replace All"
   ]
  },
  {
   "cell_type": "code",
   "execution_count": null,
   "metadata": {},
   "outputs": [],
   "source": [
    "outcome =  [\"Karl: dead\",\n",
    "            \"Samantha: dead\",\n",
    "            \"Marco: not dead\"]"
   ]
  },
  {
   "cell_type": "code",
   "execution_count": null,
   "metadata": {},
   "outputs": [
    {
     "data": {
      "text/plain": [
       "['Karl: deceased', 'Samantha: deceased', 'Marco: not deceased']"
      ]
     },
     "execution_count": null,
     "metadata": {},
     "output_type": "execute_result"
    }
   ],
   "source": [
    "[o.replace('dead', 'deceased') for o in outcome]"
   ]
  },
  {
   "cell_type": "markdown",
   "metadata": {},
   "source": [
    "## Detect with Logic"
   ]
  },
  {
   "cell_type": "markdown",
   "metadata": {},
   "source": [
    "see above `Detect Multiple Terms, separated by OR bars |`"
   ]
  },
  {
   "cell_type": "markdown",
   "metadata": {},
   "source": [
    "## Locate Pattern Position"
   ]
  },
  {
   "cell_type": "code",
   "execution_count": null,
   "metadata": {},
   "outputs": [
    {
     "data": {
      "text/plain": [
       "4"
      ]
     },
     "execution_count": null,
     "metadata": {},
     "output_type": "execute_result"
    }
   ],
   "source": [
    "string = 'I wish'\n",
    "pattern = 'sh'\n",
    "string.find(pattern)  # return start position (Note: Python indexing starts from zero)"
   ]
  },
  {
   "cell_type": "markdown",
   "metadata": {},
   "source": [
    "To find end position"
   ]
  },
  {
   "cell_type": "code",
   "execution_count": null,
   "metadata": {},
   "outputs": [
    {
     "data": {
      "text/plain": [
       "5"
      ]
     },
     "execution_count": null,
     "metadata": {},
     "output_type": "execute_result"
    }
   ],
   "source": [
    "string.find(pattern) + len(pattern) - 1"
   ]
  },
  {
   "cell_type": "code",
   "execution_count": null,
   "metadata": {},
   "outputs": [],
   "source": [
    "phrases = [\"I wish\", \"I hope\", \"he hopes\", \"He hopes\"]\n",
    "pattern = 'h'"
   ]
  },
  {
   "cell_type": "code",
   "execution_count": null,
   "metadata": {},
   "outputs": [
    {
     "name": "stdout",
     "output_type": "stream",
     "text": [
      "[5, 2, 0, 3]\n",
      "[5, 2, 0, 3]\n"
     ]
    }
   ],
   "source": [
    "start = []\n",
    "end = []\n",
    "for p in phrases:\n",
    "    start.append(p.find(pattern))\n",
    "    end.append((p.find(pattern) + len(pattern) -1))\n",
    "print(start)\n",
    "print(end)"
   ]
  },
  {
   "cell_type": "code",
   "execution_count": null,
   "metadata": {},
   "outputs": [
    {
     "data": {
      "text/plain": [
       "[(5, 5), (2, 2), (0, 0), (3, 3)]"
      ]
     },
     "execution_count": null,
     "metadata": {},
     "output_type": "execute_result"
    }
   ],
   "source": [
    "list(zip(start, end))"
   ]
  },
  {
   "cell_type": "markdown",
   "metadata": {},
   "source": [
    "## Extract a Match"
   ]
  },
  {
   "cell_type": "code",
   "execution_count": null,
   "metadata": {},
   "outputs": [
    {
     "data": {
      "text/plain": [
       "['field laborer',\n",
       " 'university professor',\n",
       " 'primary school teacher & tutor',\n",
       " 'tutor',\n",
       " 'nurse at regional hospital',\n",
       " 'lineworker at Amberdeen Fish Factory',\n",
       " 'physican',\n",
       " 'cardiologist',\n",
       " 'office worker',\n",
       " 'food service']"
      ]
     },
     "execution_count": null,
     "metadata": {},
     "output_type": "execute_result"
    }
   ],
   "source": [
    "occupations"
   ]
  },
  {
   "cell_type": "code",
   "execution_count": null,
   "metadata": {},
   "outputs": [
    {
     "name": "stdout",
     "output_type": "stream",
     "text": [
      "0 0\n",
      "1 university professor\n",
      "2 primary school teacher & tutor\n",
      "3 tutor\n",
      "4 0\n",
      "5 0\n",
      "6 0\n",
      "7 0\n",
      "8 0\n",
      "9 0\n"
     ]
    }
   ],
   "source": [
    "for i, o in enumerate(occupations):\n",
    "    if 'teach' in o or 'prof' in o or 'tutor' in o:\n",
    "        print(i, o)\n",
    "    else:\n",
    "        print(i, 0)"
   ]
  },
  {
   "cell_type": "code",
   "execution_count": null,
   "metadata": {},
   "outputs": [
    {
     "data": {
      "text/plain": [
       "['NA',\n",
       " 'university professor',\n",
       " 'primary school teacher & tutor',\n",
       " 'tutor',\n",
       " 'NA',\n",
       " 'NA',\n",
       " 'NA',\n",
       " 'NA',\n",
       " 'NA',\n",
       " 'NA']"
      ]
     },
     "execution_count": null,
     "metadata": {},
     "output_type": "execute_result"
    }
   ],
   "source": [
    "[o if 'teach' in o or 'prof' in o or 'tutor' in o else 'NA' for o in occupations]"
   ]
  },
  {
   "cell_type": "markdown",
   "metadata": {},
   "source": [
    "## Subset and Count "
   ]
  },
  {
   "cell_type": "code",
   "execution_count": null,
   "metadata": {},
   "outputs": [
    {
     "data": {
      "text/plain": [
       "['university professor', 'primary school teacher & tutor', 'tutor']"
      ]
     },
     "execution_count": null,
     "metadata": {},
     "output_type": "execute_result"
    }
   ],
   "source": [
    "[o for o in occupations if 'teach' in o or 'prof' in o or 'tutor' in o]  # ignore the else 'NA' to get a shorter answer"
   ]
  },
  {
   "cell_type": "code",
   "execution_count": null,
   "metadata": {},
   "outputs": [
    {
     "data": {
      "text/plain": [
       "[(1, 'university professor'),\n",
       " (2, 'primary school teacher & tutor'),\n",
       " (3, 'tutor')]"
      ]
     },
     "execution_count": null,
     "metadata": {},
     "output_type": "execute_result"
    }
   ],
   "source": [
    "[(i, o) for i, o in enumerate(occupations) if 'teach' in o or 'prof' in o or 'tutor' in o]"
   ]
  },
  {
   "cell_type": "code",
   "execution_count": null,
   "metadata": {},
   "outputs": [
    {
     "name": "stdout",
     "output_type": "stream",
     "text": [
      "0\n",
      "1\n",
      "2\n",
      "1\n",
      "0\n",
      "0\n",
      "0\n",
      "0\n",
      "0\n",
      "0\n"
     ]
    }
   ],
   "source": [
    "for o in occupations:\n",
    "    n = 0\n",
    "    if 'teach' in o.lower():\n",
    "        n+=1\n",
    "    if 'prof' in o.lower():\n",
    "        n+=1\n",
    "    if 'tutor' in o.lower():\n",
    "        n+=1\n",
    "    print(n)"
   ]
  },
  {
   "cell_type": "markdown",
   "metadata": {},
   "source": [
    "# Special Characters"
   ]
  },
  {
   "cell_type": "markdown",
   "metadata": {},
   "source": [
    "The backslash \\ is used to “escape” the meaning of the next character. For example, `\\n`\ta new line"
   ]
  },
  {
   "cell_type": "markdown",
   "metadata": {},
   "source": [
    "quotes"
   ]
  },
  {
   "cell_type": "code",
   "execution_count": null,
   "metadata": {},
   "outputs": [
    {
     "data": {
      "text/plain": [
       "\"'\""
      ]
     },
     "execution_count": null,
     "metadata": {},
     "output_type": "execute_result"
    }
   ],
   "source": [
    "\"'\""
   ]
  },
  {
   "cell_type": "code",
   "execution_count": null,
   "metadata": {},
   "outputs": [
    {
     "data": {
      "text/plain": [
       "'\"'"
      ]
     },
     "execution_count": null,
     "metadata": {},
     "output_type": "execute_result"
    }
   ],
   "source": [
    "'\"'"
   ]
  },
  {
   "cell_type": "markdown",
   "metadata": {},
   "source": [
    "# Regular Expression and Special Characters"
   ]
  },
  {
   "cell_type": "code",
   "execution_count": null,
   "metadata": {},
   "outputs": [],
   "source": [
    "test = \"A-AA-AAA-AAAA\""
   ]
  },
  {
   "cell_type": "markdown",
   "metadata": {},
   "source": [
    "Use `re.findall` to find all possible matches"
   ]
  },
  {
   "cell_type": "markdown",
   "metadata": {},
   "source": [
    "## Quantifiers `{}`"
   ]
  },
  {
   "cell_type": "code",
   "execution_count": null,
   "metadata": {},
   "outputs": [
    {
     "data": {
      "text/plain": [
       "['AA', 'AA', 'AA', 'AA']"
      ]
     },
     "execution_count": null,
     "metadata": {},
     "output_type": "execute_result"
    }
   ],
   "source": [
    "result = re.findall(r'A{2}', test)\n",
    "result"
   ]
  },
  {
   "cell_type": "markdown",
   "metadata": {},
   "source": [
    "Alternatively, use `re.match` to find the first match but preparation of text required."
   ]
  },
  {
   "cell_type": "code",
   "execution_count": null,
   "metadata": {},
   "outputs": [
    {
     "data": {
      "text/plain": [
       "['A', 'AA', 'AAA', 'AAAA']"
      ]
     },
     "execution_count": null,
     "metadata": {},
     "output_type": "execute_result"
    }
   ],
   "source": [
    "test = test.replace('-', ' ')\n",
    "test = test.split()\n",
    "test"
   ]
  },
  {
   "cell_type": "code",
   "execution_count": null,
   "metadata": {},
   "outputs": [
    {
     "name": "stdout",
     "output_type": "stream",
     "text": [
      "None\n",
      "<re.Match object; span=(0, 2), match='AA'>\n",
      "<re.Match object; span=(0, 2), match='AA'>\n",
      "<re.Match object; span=(0, 2), match='AA'>\n"
     ]
    }
   ],
   "source": [
    "for t in test:\n",
    "    result = re.match(r'A{2}', t)\n",
    "    print(result)"
   ]
  },
  {
   "cell_type": "markdown",
   "metadata": {},
   "source": [
    "When a quantifier of {2,4} is used, groups of consecutive A’s that are two to four in length are returned."
   ]
  },
  {
   "cell_type": "code",
   "execution_count": null,
   "metadata": {},
   "outputs": [
    {
     "data": {
      "text/plain": [
       "['AA', 'AAA', 'AAAA']"
      ]
     },
     "execution_count": null,
     "metadata": {},
     "output_type": "execute_result"
    }
   ],
   "source": [
    "test = \"A-AA-AAA-AAAA\"\n",
    "result = re.findall(r'A{2,4}', test)\n",
    "result"
   ]
  },
  {
   "cell_type": "markdown",
   "metadata": {},
   "source": [
    "With the quantifier `+`, groups of one or more are returned:"
   ]
  },
  {
   "cell_type": "code",
   "execution_count": null,
   "metadata": {},
   "outputs": [
    {
     "data": {
      "text/plain": [
       "['A', 'AA', 'AAA', 'AAAA']"
      ]
     },
     "execution_count": null,
     "metadata": {},
     "output_type": "execute_result"
    }
   ],
   "source": [
    "result = re.findall(r'A+', test)\n",
    "result"
   ]
  },
  {
   "cell_type": "markdown",
   "metadata": {},
   "source": [
    "## Relative Position"
   ]
  },
  {
   "cell_type": "code",
   "execution_count": null,
   "metadata": {},
   "outputs": [
    {
     "data": {
      "text/plain": [
       "['', '', '', '', '', '', '', '', '', '', '', '', '', '']"
      ]
     },
     "execution_count": null,
     "metadata": {},
     "output_type": "execute_result"
    }
   ],
   "source": [
    "result = re.findall(r'', test)\n",
    "result"
   ]
  },
  {
   "cell_type": "markdown",
   "metadata": {},
   "source": [
    "## RegEx Examples"
   ]
  },
  {
   "cell_type": "code",
   "execution_count": null,
   "metadata": {},
   "outputs": [
    {
     "data": {
      "text/plain": [
       "'Patient arrived at Broward Hospital emergency ward at 18:00 on 6/12/2005. Patient presented with radiating abdominal pain from LR quadrant. Patient skin was pale, cool, and clammy. Patient temperature was 99.8 degrees farinheit. Patient pulse rate was 100 bpm and thready. Respiratory rate was 29 per minute.'"
      ]
     },
     "execution_count": null,
     "metadata": {},
     "output_type": "execute_result"
    }
   ],
   "source": [
    "pt_note = \"Patient arrived at Broward Hospital emergency ward at 18:00 on 6/12/2005. Patient presented with radiating abdominal pain from LR quadrant. Patient skin was pale, cool, and clammy. Patient temperature was 99.8 degrees farinheit. Patient pulse rate was 100 bpm and thready. Respiratory rate was 29 per minute.\"\n",
    "pt_note"
   ]
  },
  {
   "cell_type": "code",
   "execution_count": null,
   "metadata": {},
   "outputs": [
    {
     "data": {
      "text/plain": [
       "['Patient',\n",
       " 'arrived',\n",
       " 'at',\n",
       " 'Broward',\n",
       " 'Hospital',\n",
       " 'emergency',\n",
       " 'ward',\n",
       " 'at',\n",
       " 'on',\n",
       " 'Patient',\n",
       " 'presented',\n",
       " 'with',\n",
       " 'radiating',\n",
       " 'abdominal',\n",
       " 'pain',\n",
       " 'from',\n",
       " 'LR',\n",
       " 'quadrant',\n",
       " 'Patient',\n",
       " 'skin',\n",
       " 'was',\n",
       " 'pale',\n",
       " 'cool',\n",
       " 'and',\n",
       " 'clammy',\n",
       " 'Patient',\n",
       " 'temperature',\n",
       " 'was',\n",
       " 'degrees',\n",
       " 'farinheit',\n",
       " 'Patient',\n",
       " 'pulse',\n",
       " 'rate',\n",
       " 'was',\n",
       " 'bpm',\n",
       " 'and',\n",
       " 'thready',\n",
       " 'Respiratory',\n",
       " 'rate',\n",
       " 'was',\n",
       " 'per',\n",
       " 'minute']"
      ]
     },
     "execution_count": null,
     "metadata": {},
     "output_type": "execute_result"
    }
   ],
   "source": [
    "pattern = r\"[A-Za-z]+\"\n",
    "result = re.findall(pattern, pt_note)\n",
    "result"
   ]
  },
  {
   "cell_type": "code",
   "execution_count": null,
   "metadata": {},
   "outputs": [
    {
     "data": {
      "text/plain": [
       "['18', '00', '6', '12', '20', '05', '99', '8', '10', '0', '29']"
      ]
     },
     "execution_count": null,
     "metadata": {},
     "output_type": "execute_result"
    }
   ],
   "source": [
    "pattern = r\"[0-9]{1,2}\"\n",
    "result = re.findall(pattern, pt_note)\n",
    "result"
   ]
  },
  {
   "cell_type": "markdown",
   "metadata": {},
   "source": [
    "Tips: Go go https://regexr.com/, you can put your text and pattern there to visualise the output.  Note: Also, you can apply different flags to achieve the results you wanted."
   ]
  },
  {
   "cell_type": "code",
   "execution_count": null,
   "metadata": {},
   "outputs": [],
   "source": [
    "#| hide\n",
    "nbdev_export()"
   ]
  }
 ],
 "metadata": {
  "kernelspec": {
   "display_name": "Python 3 (ipykernel)",
   "language": "python",
   "name": "python3"
  }
 },
 "nbformat": 4,
 "nbformat_minor": 4
}
