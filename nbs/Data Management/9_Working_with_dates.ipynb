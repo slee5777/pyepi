{
 "cells": [
  {
   "cell_type": "markdown",
   "metadata": {},
   "source": [
    "# Working with Dates\n",
    "\n",
    "> with reference to EpiRHandbook Chapter 9"
   ]
  },
  {
   "cell_type": "raw",
   "metadata": {},
   "source": [
    "#| default_exp dates"
   ]
  },
  {
   "cell_type": "code",
   "execution_count": null,
   "metadata": {},
   "outputs": [],
   "source": [
    "#|hide\n",
    "from nbdev import *\n",
    "from fastcore.test import *\n",
    "from fastcore.utils import *"
   ]
  },
  {
   "cell_type": "code",
   "execution_count": null,
   "metadata": {},
   "outputs": [],
   "source": [
    "import pandas as pd\n",
    "import numpy as np\n",
    "from scipy import stats\n",
    "import matplotlib.pyplot as plt\n",
    "import matplotlib.style as style"
   ]
  },
  {
   "cell_type": "code",
   "execution_count": null,
   "metadata": {},
   "outputs": [],
   "source": [
    "#|hide\n",
    "# To use colourbind colour schemes (optional).  To get the color, see https://github.com/matplotlib/matplotlib/blob/main/lib/matplotlib/mpl-data/stylelib/tableau-colorblind10.mplstyle"
   ]
  },
  {
   "cell_type": "code",
   "execution_count": null,
   "metadata": {},
   "outputs": [],
   "source": [
    "#|hide\n",
    "style.use('tableau-colorblind10')"
   ]
  },
  {
   "cell_type": "code",
   "execution_count": null,
   "metadata": {},
   "outputs": [],
   "source": [
    "#|hide\n",
    "# set display options in pandas\n",
    "pd.set_option('display.max_columns', 100)  \n",
    "pd.set_option('display.max_rows',100)\n",
    "pd.set_option('display.width', 1000)"
   ]
  },
  {
   "cell_type": "markdown",
   "metadata": {},
   "source": [
    "## Data"
   ]
  },
  {
   "cell_type": "markdown",
   "metadata": {},
   "source": [
    "Import data from https://github.com/appliedepi/epiRhandbook_eng/blob/master/data/linelist_cleaned.xlsx and then save under \"epiRhandbook_data\" folder.  \n",
    "Note: Installation of \"openpyxl\" is required."
   ]
  },
  {
   "cell_type": "code",
   "execution_count": null,
   "metadata": {},
   "outputs": [
    {
     "data": {
      "text/html": [
       "<div>\n",
       "<style scoped>\n",
       "    .dataframe tbody tr th:only-of-type {\n",
       "        vertical-align: middle;\n",
       "    }\n",
       "\n",
       "    .dataframe tbody tr th {\n",
       "        vertical-align: top;\n",
       "    }\n",
       "\n",
       "    .dataframe thead th {\n",
       "        text-align: right;\n",
       "    }\n",
       "</style>\n",
       "<table border=\"1\" class=\"dataframe\">\n",
       "  <thead>\n",
       "    <tr style=\"text-align: right;\">\n",
       "      <th></th>\n",
       "      <th>case_id</th>\n",
       "      <th>generation</th>\n",
       "      <th>date_infection</th>\n",
       "      <th>date_onset</th>\n",
       "      <th>date_hospitalisation</th>\n",
       "      <th>date_outcome</th>\n",
       "      <th>outcome</th>\n",
       "      <th>gender</th>\n",
       "      <th>age</th>\n",
       "      <th>age_unit</th>\n",
       "      <th>age_years</th>\n",
       "      <th>age_cat</th>\n",
       "      <th>age_cat5</th>\n",
       "      <th>hospital</th>\n",
       "      <th>lon</th>\n",
       "      <th>lat</th>\n",
       "      <th>infector</th>\n",
       "      <th>source</th>\n",
       "      <th>wt_kg</th>\n",
       "      <th>ht_cm</th>\n",
       "      <th>ct_blood</th>\n",
       "      <th>fever</th>\n",
       "      <th>chills</th>\n",
       "      <th>cough</th>\n",
       "      <th>aches</th>\n",
       "      <th>vomit</th>\n",
       "      <th>temp</th>\n",
       "      <th>time_admission</th>\n",
       "      <th>bmi</th>\n",
       "      <th>days_onset_hosp</th>\n",
       "    </tr>\n",
       "  </thead>\n",
       "  <tbody>\n",
       "    <tr>\n",
       "      <th>0</th>\n",
       "      <td>5fe599</td>\n",
       "      <td>4</td>\n",
       "      <td>2014-05-08</td>\n",
       "      <td>2014-05-13</td>\n",
       "      <td>2014-05-15</td>\n",
       "      <td>NaT</td>\n",
       "      <td>NaN</td>\n",
       "      <td>m</td>\n",
       "      <td>2.0</td>\n",
       "      <td>years</td>\n",
       "      <td>2.0</td>\n",
       "      <td>0-4</td>\n",
       "      <td>0-4</td>\n",
       "      <td>Other</td>\n",
       "      <td>-13.215735</td>\n",
       "      <td>8.468973</td>\n",
       "      <td>f547d6</td>\n",
       "      <td>other</td>\n",
       "      <td>27</td>\n",
       "      <td>48</td>\n",
       "      <td>22</td>\n",
       "      <td>no</td>\n",
       "      <td>no</td>\n",
       "      <td>yes</td>\n",
       "      <td>no</td>\n",
       "      <td>yes</td>\n",
       "      <td>36.8</td>\n",
       "      <td>NaN</td>\n",
       "      <td>117.187500</td>\n",
       "      <td>2.0</td>\n",
       "    </tr>\n",
       "    <tr>\n",
       "      <th>1</th>\n",
       "      <td>8689b7</td>\n",
       "      <td>4</td>\n",
       "      <td>NaT</td>\n",
       "      <td>2014-05-13</td>\n",
       "      <td>2014-05-14</td>\n",
       "      <td>2014-05-18</td>\n",
       "      <td>Recover</td>\n",
       "      <td>f</td>\n",
       "      <td>3.0</td>\n",
       "      <td>years</td>\n",
       "      <td>3.0</td>\n",
       "      <td>0-4</td>\n",
       "      <td>0-4</td>\n",
       "      <td>Missing</td>\n",
       "      <td>-13.215234</td>\n",
       "      <td>8.451719</td>\n",
       "      <td>NaN</td>\n",
       "      <td>NaN</td>\n",
       "      <td>25</td>\n",
       "      <td>59</td>\n",
       "      <td>22</td>\n",
       "      <td>NaN</td>\n",
       "      <td>NaN</td>\n",
       "      <td>NaN</td>\n",
       "      <td>NaN</td>\n",
       "      <td>NaN</td>\n",
       "      <td>36.9</td>\n",
       "      <td>09:36</td>\n",
       "      <td>71.818443</td>\n",
       "      <td>1.0</td>\n",
       "    </tr>\n",
       "    <tr>\n",
       "      <th>2</th>\n",
       "      <td>11f8ea</td>\n",
       "      <td>2</td>\n",
       "      <td>NaT</td>\n",
       "      <td>2014-05-16</td>\n",
       "      <td>2014-05-18</td>\n",
       "      <td>2014-05-30</td>\n",
       "      <td>Recover</td>\n",
       "      <td>m</td>\n",
       "      <td>56.0</td>\n",
       "      <td>years</td>\n",
       "      <td>56.0</td>\n",
       "      <td>50-69</td>\n",
       "      <td>55-59</td>\n",
       "      <td>St. Mark's Maternity Hospital (SMMH)</td>\n",
       "      <td>-13.212911</td>\n",
       "      <td>8.464817</td>\n",
       "      <td>NaN</td>\n",
       "      <td>NaN</td>\n",
       "      <td>91</td>\n",
       "      <td>238</td>\n",
       "      <td>21</td>\n",
       "      <td>NaN</td>\n",
       "      <td>NaN</td>\n",
       "      <td>NaN</td>\n",
       "      <td>NaN</td>\n",
       "      <td>NaN</td>\n",
       "      <td>36.9</td>\n",
       "      <td>16:48</td>\n",
       "      <td>16.065250</td>\n",
       "      <td>2.0</td>\n",
       "    </tr>\n",
       "  </tbody>\n",
       "</table>\n",
       "</div>"
      ],
      "text/plain": [
       "  case_id  generation date_infection date_onset date_hospitalisation date_outcome  outcome gender   age age_unit  age_years age_cat age_cat5                              hospital        lon       lat infector source  wt_kg  ht_cm  ct_blood fever chills cough aches vomit  temp time_admission         bmi  days_onset_hosp\n",
       "0  5fe599           4     2014-05-08 2014-05-13           2014-05-15          NaT      NaN      m   2.0    years        2.0     0-4      0-4                                 Other -13.215735  8.468973   f547d6  other     27     48        22    no     no   yes    no   yes  36.8            NaN  117.187500              2.0\n",
       "1  8689b7           4            NaT 2014-05-13           2014-05-14   2014-05-18  Recover      f   3.0    years        3.0     0-4      0-4                               Missing -13.215234  8.451719      NaN    NaN     25     59        22   NaN    NaN   NaN   NaN   NaN  36.9          09:36   71.818443              1.0\n",
       "2  11f8ea           2            NaT 2014-05-16           2014-05-18   2014-05-30  Recover      m  56.0    years       56.0   50-69    55-59  St. Mark's Maternity Hospital (SMMH) -13.212911  8.464817      NaN    NaN     91    238        21   NaN    NaN   NaN   NaN   NaN  36.9          16:48   16.065250              2.0"
      ]
     },
     "execution_count": null,
     "metadata": {},
     "output_type": "execute_result"
    }
   ],
   "source": [
    "linelist = pd.read_excel('../epiRhandbook_data/linelist_cleaned.xlsx')\n",
    "linelist.head(3)"
   ]
  },
  {
   "cell_type": "markdown",
   "metadata": {},
   "source": [
    "## Current Date"
   ]
  },
  {
   "cell_type": "markdown",
   "metadata": {},
   "source": [
    "Print system date and time using Linux comment (starting with `!`)"
   ]
  },
  {
   "cell_type": "code",
   "execution_count": null,
   "metadata": {},
   "outputs": [
    {
     "name": "stdout",
     "output_type": "stream",
     "text": [
      "Wed  4 Jan 18:31:40 AWST 2023\r\n"
     ]
    }
   ],
   "source": [
    "!date"
   ]
  },
  {
   "cell_type": "markdown",
   "metadata": {},
   "source": [
    "## Convert to Date"
   ]
  },
  {
   "cell_type": "markdown",
   "metadata": {},
   "source": [
    "### Reading date columns (use parse_dates to specify the columns if necessary)"
   ]
  },
  {
   "cell_type": "code",
   "execution_count": null,
   "metadata": {},
   "outputs": [
    {
     "data": {
      "text/html": [
       "<div>\n",
       "<style scoped>\n",
       "    .dataframe tbody tr th:only-of-type {\n",
       "        vertical-align: middle;\n",
       "    }\n",
       "\n",
       "    .dataframe tbody tr th {\n",
       "        vertical-align: top;\n",
       "    }\n",
       "\n",
       "    .dataframe thead th {\n",
       "        text-align: right;\n",
       "    }\n",
       "</style>\n",
       "<table border=\"1\" class=\"dataframe\">\n",
       "  <thead>\n",
       "    <tr style=\"text-align: right;\">\n",
       "      <th></th>\n",
       "      <th>case_id</th>\n",
       "      <th>generation</th>\n",
       "      <th>date_infection</th>\n",
       "      <th>date_onset</th>\n",
       "      <th>date_hospitalisation</th>\n",
       "      <th>date_outcome</th>\n",
       "      <th>outcome</th>\n",
       "      <th>gender</th>\n",
       "      <th>age</th>\n",
       "      <th>age_unit</th>\n",
       "      <th>age_years</th>\n",
       "      <th>age_cat</th>\n",
       "      <th>age_cat5</th>\n",
       "      <th>hospital</th>\n",
       "      <th>lon</th>\n",
       "      <th>lat</th>\n",
       "      <th>infector</th>\n",
       "      <th>source</th>\n",
       "      <th>wt_kg</th>\n",
       "      <th>ht_cm</th>\n",
       "      <th>ct_blood</th>\n",
       "      <th>fever</th>\n",
       "      <th>chills</th>\n",
       "      <th>cough</th>\n",
       "      <th>aches</th>\n",
       "      <th>vomit</th>\n",
       "      <th>temp</th>\n",
       "      <th>time_admission</th>\n",
       "      <th>bmi</th>\n",
       "      <th>days_onset_hosp</th>\n",
       "    </tr>\n",
       "  </thead>\n",
       "  <tbody>\n",
       "    <tr>\n",
       "      <th>0</th>\n",
       "      <td>5fe599</td>\n",
       "      <td>4</td>\n",
       "      <td>2014-05-08</td>\n",
       "      <td>2014-05-13</td>\n",
       "      <td>2014-05-15</td>\n",
       "      <td>NaT</td>\n",
       "      <td>NaN</td>\n",
       "      <td>m</td>\n",
       "      <td>2.0</td>\n",
       "      <td>years</td>\n",
       "      <td>2.0</td>\n",
       "      <td>0-4</td>\n",
       "      <td>0-4</td>\n",
       "      <td>Other</td>\n",
       "      <td>-13.215735</td>\n",
       "      <td>8.468973</td>\n",
       "      <td>f547d6</td>\n",
       "      <td>other</td>\n",
       "      <td>27</td>\n",
       "      <td>48</td>\n",
       "      <td>22</td>\n",
       "      <td>no</td>\n",
       "      <td>no</td>\n",
       "      <td>yes</td>\n",
       "      <td>no</td>\n",
       "      <td>yes</td>\n",
       "      <td>36.8</td>\n",
       "      <td>NaN</td>\n",
       "      <td>117.187500</td>\n",
       "      <td>2.0</td>\n",
       "    </tr>\n",
       "    <tr>\n",
       "      <th>1</th>\n",
       "      <td>8689b7</td>\n",
       "      <td>4</td>\n",
       "      <td>NaT</td>\n",
       "      <td>2014-05-13</td>\n",
       "      <td>2014-05-14</td>\n",
       "      <td>2014-05-18</td>\n",
       "      <td>Recover</td>\n",
       "      <td>f</td>\n",
       "      <td>3.0</td>\n",
       "      <td>years</td>\n",
       "      <td>3.0</td>\n",
       "      <td>0-4</td>\n",
       "      <td>0-4</td>\n",
       "      <td>Missing</td>\n",
       "      <td>-13.215234</td>\n",
       "      <td>8.451719</td>\n",
       "      <td>NaN</td>\n",
       "      <td>NaN</td>\n",
       "      <td>25</td>\n",
       "      <td>59</td>\n",
       "      <td>22</td>\n",
       "      <td>NaN</td>\n",
       "      <td>NaN</td>\n",
       "      <td>NaN</td>\n",
       "      <td>NaN</td>\n",
       "      <td>NaN</td>\n",
       "      <td>36.9</td>\n",
       "      <td>09:36</td>\n",
       "      <td>71.818443</td>\n",
       "      <td>1.0</td>\n",
       "    </tr>\n",
       "    <tr>\n",
       "      <th>2</th>\n",
       "      <td>11f8ea</td>\n",
       "      <td>2</td>\n",
       "      <td>NaT</td>\n",
       "      <td>2014-05-16</td>\n",
       "      <td>2014-05-18</td>\n",
       "      <td>2014-05-30</td>\n",
       "      <td>Recover</td>\n",
       "      <td>m</td>\n",
       "      <td>56.0</td>\n",
       "      <td>years</td>\n",
       "      <td>56.0</td>\n",
       "      <td>50-69</td>\n",
       "      <td>55-59</td>\n",
       "      <td>St. Mark's Maternity Hospital (SMMH)</td>\n",
       "      <td>-13.212911</td>\n",
       "      <td>8.464817</td>\n",
       "      <td>NaN</td>\n",
       "      <td>NaN</td>\n",
       "      <td>91</td>\n",
       "      <td>238</td>\n",
       "      <td>21</td>\n",
       "      <td>NaN</td>\n",
       "      <td>NaN</td>\n",
       "      <td>NaN</td>\n",
       "      <td>NaN</td>\n",
       "      <td>NaN</td>\n",
       "      <td>36.9</td>\n",
       "      <td>16:48</td>\n",
       "      <td>16.065250</td>\n",
       "      <td>2.0</td>\n",
       "    </tr>\n",
       "  </tbody>\n",
       "</table>\n",
       "</div>"
      ],
      "text/plain": [
       "  case_id  generation date_infection date_onset date_hospitalisation date_outcome  outcome gender   age age_unit  age_years age_cat age_cat5                              hospital        lon       lat infector source  wt_kg  ht_cm  ct_blood fever chills cough aches vomit  temp time_admission         bmi  days_onset_hosp\n",
       "0  5fe599           4     2014-05-08 2014-05-13           2014-05-15          NaT      NaN      m   2.0    years        2.0     0-4      0-4                                 Other -13.215735  8.468973   f547d6  other     27     48        22    no     no   yes    no   yes  36.8            NaN  117.187500              2.0\n",
       "1  8689b7           4            NaT 2014-05-13           2014-05-14   2014-05-18  Recover      f   3.0    years        3.0     0-4      0-4                               Missing -13.215234  8.451719      NaN    NaN     25     59        22   NaN    NaN   NaN   NaN   NaN  36.9          09:36   71.818443              1.0\n",
       "2  11f8ea           2            NaT 2014-05-16           2014-05-18   2014-05-30  Recover      m  56.0    years       56.0   50-69    55-59  St. Mark's Maternity Hospital (SMMH) -13.212911  8.464817      NaN    NaN     91    238        21   NaN    NaN   NaN   NaN   NaN  36.9          16:48   16.065250              2.0"
      ]
     },
     "execution_count": null,
     "metadata": {},
     "output_type": "execute_result"
    }
   ],
   "source": [
    "df_date = pd.read_excel('../epiRhandbook_data/linelist_cleaned.xlsx', \n",
    "                        parse_dates=['date_infection', 'date_onset', 'date_hospitalisation', 'date_outcome', 'time_admission'])\n",
    "df_date.head(3)"
   ]
  },
  {
   "cell_type": "markdown",
   "metadata": {},
   "source": [
    "### Customizing a Date Time using `dt`"
   ]
  },
  {
   "cell_type": "code",
   "execution_count": null,
   "metadata": {},
   "outputs": [
    {
     "data": {
      "text/html": [
       "<div>\n",
       "<style scoped>\n",
       "    .dataframe tbody tr th:only-of-type {\n",
       "        vertical-align: middle;\n",
       "    }\n",
       "\n",
       "    .dataframe tbody tr th {\n",
       "        vertical-align: top;\n",
       "    }\n",
       "\n",
       "    .dataframe thead th {\n",
       "        text-align: right;\n",
       "    }\n",
       "</style>\n",
       "<table border=\"1\" class=\"dataframe\">\n",
       "  <thead>\n",
       "    <tr style=\"text-align: right;\">\n",
       "      <th></th>\n",
       "      <th>case_id</th>\n",
       "      <th>generation</th>\n",
       "      <th>date_infection</th>\n",
       "      <th>date_onset</th>\n",
       "      <th>date_hospitalisation</th>\n",
       "      <th>date_outcome</th>\n",
       "      <th>outcome</th>\n",
       "      <th>gender</th>\n",
       "      <th>age</th>\n",
       "      <th>age_unit</th>\n",
       "      <th>age_years</th>\n",
       "      <th>age_cat</th>\n",
       "      <th>age_cat5</th>\n",
       "      <th>hospital</th>\n",
       "      <th>lon</th>\n",
       "      <th>lat</th>\n",
       "      <th>infector</th>\n",
       "      <th>source</th>\n",
       "      <th>wt_kg</th>\n",
       "      <th>ht_cm</th>\n",
       "      <th>ct_blood</th>\n",
       "      <th>fever</th>\n",
       "      <th>chills</th>\n",
       "      <th>cough</th>\n",
       "      <th>aches</th>\n",
       "      <th>vomit</th>\n",
       "      <th>temp</th>\n",
       "      <th>time_admission</th>\n",
       "      <th>bmi</th>\n",
       "      <th>days_onset_hosp</th>\n",
       "    </tr>\n",
       "  </thead>\n",
       "  <tbody>\n",
       "    <tr>\n",
       "      <th>0</th>\n",
       "      <td>5fe599</td>\n",
       "      <td>4</td>\n",
       "      <td>2014-05-08</td>\n",
       "      <td>May/13/14</td>\n",
       "      <td>Thu May/15/2014</td>\n",
       "      <td>NaT</td>\n",
       "      <td>NaN</td>\n",
       "      <td>m</td>\n",
       "      <td>2.0</td>\n",
       "      <td>years</td>\n",
       "      <td>2.0</td>\n",
       "      <td>0-4</td>\n",
       "      <td>0-4</td>\n",
       "      <td>Other</td>\n",
       "      <td>-13.215735</td>\n",
       "      <td>8.468973</td>\n",
       "      <td>f547d6</td>\n",
       "      <td>other</td>\n",
       "      <td>27</td>\n",
       "      <td>48</td>\n",
       "      <td>22</td>\n",
       "      <td>no</td>\n",
       "      <td>no</td>\n",
       "      <td>yes</td>\n",
       "      <td>no</td>\n",
       "      <td>yes</td>\n",
       "      <td>36.8</td>\n",
       "      <td>NaN</td>\n",
       "      <td>117.187500</td>\n",
       "      <td>2.0</td>\n",
       "    </tr>\n",
       "    <tr>\n",
       "      <th>1</th>\n",
       "      <td>8689b7</td>\n",
       "      <td>4</td>\n",
       "      <td>NaN</td>\n",
       "      <td>May/13/14</td>\n",
       "      <td>Wed May/14/2014</td>\n",
       "      <td>2014-05-18</td>\n",
       "      <td>Recover</td>\n",
       "      <td>f</td>\n",
       "      <td>3.0</td>\n",
       "      <td>years</td>\n",
       "      <td>3.0</td>\n",
       "      <td>0-4</td>\n",
       "      <td>0-4</td>\n",
       "      <td>Missing</td>\n",
       "      <td>-13.215234</td>\n",
       "      <td>8.451719</td>\n",
       "      <td>NaN</td>\n",
       "      <td>NaN</td>\n",
       "      <td>25</td>\n",
       "      <td>59</td>\n",
       "      <td>22</td>\n",
       "      <td>NaN</td>\n",
       "      <td>NaN</td>\n",
       "      <td>NaN</td>\n",
       "      <td>NaN</td>\n",
       "      <td>NaN</td>\n",
       "      <td>36.9</td>\n",
       "      <td>09:36</td>\n",
       "      <td>71.818443</td>\n",
       "      <td>1.0</td>\n",
       "    </tr>\n",
       "    <tr>\n",
       "      <th>2</th>\n",
       "      <td>11f8ea</td>\n",
       "      <td>2</td>\n",
       "      <td>NaN</td>\n",
       "      <td>May/16/14</td>\n",
       "      <td>Sun May/18/2014</td>\n",
       "      <td>2014-05-30</td>\n",
       "      <td>Recover</td>\n",
       "      <td>m</td>\n",
       "      <td>56.0</td>\n",
       "      <td>years</td>\n",
       "      <td>56.0</td>\n",
       "      <td>50-69</td>\n",
       "      <td>55-59</td>\n",
       "      <td>St. Mark's Maternity Hospital (SMMH)</td>\n",
       "      <td>-13.212911</td>\n",
       "      <td>8.464817</td>\n",
       "      <td>NaN</td>\n",
       "      <td>NaN</td>\n",
       "      <td>91</td>\n",
       "      <td>238</td>\n",
       "      <td>21</td>\n",
       "      <td>NaN</td>\n",
       "      <td>NaN</td>\n",
       "      <td>NaN</td>\n",
       "      <td>NaN</td>\n",
       "      <td>NaN</td>\n",
       "      <td>36.9</td>\n",
       "      <td>16:48</td>\n",
       "      <td>16.065250</td>\n",
       "      <td>2.0</td>\n",
       "    </tr>\n",
       "    <tr>\n",
       "      <th>3</th>\n",
       "      <td>b8812a</td>\n",
       "      <td>3</td>\n",
       "      <td>2014-05-04</td>\n",
       "      <td>May/18/14</td>\n",
       "      <td>Tue May/20/2014</td>\n",
       "      <td>NaT</td>\n",
       "      <td>NaN</td>\n",
       "      <td>f</td>\n",
       "      <td>18.0</td>\n",
       "      <td>years</td>\n",
       "      <td>18.0</td>\n",
       "      <td>15-19</td>\n",
       "      <td>15-19</td>\n",
       "      <td>Port Hospital</td>\n",
       "      <td>-13.236371</td>\n",
       "      <td>8.475476</td>\n",
       "      <td>f90f5f</td>\n",
       "      <td>other</td>\n",
       "      <td>41</td>\n",
       "      <td>135</td>\n",
       "      <td>23</td>\n",
       "      <td>no</td>\n",
       "      <td>no</td>\n",
       "      <td>no</td>\n",
       "      <td>no</td>\n",
       "      <td>no</td>\n",
       "      <td>36.8</td>\n",
       "      <td>11:22</td>\n",
       "      <td>22.496571</td>\n",
       "      <td>2.0</td>\n",
       "    </tr>\n",
       "    <tr>\n",
       "      <th>4</th>\n",
       "      <td>893f25</td>\n",
       "      <td>3</td>\n",
       "      <td>2014-05-18</td>\n",
       "      <td>May/21/14</td>\n",
       "      <td>Thu May/22/2014</td>\n",
       "      <td>2014-05-29</td>\n",
       "      <td>Recover</td>\n",
       "      <td>m</td>\n",
       "      <td>3.0</td>\n",
       "      <td>years</td>\n",
       "      <td>3.0</td>\n",
       "      <td>0-4</td>\n",
       "      <td>0-4</td>\n",
       "      <td>Military Hospital</td>\n",
       "      <td>-13.222864</td>\n",
       "      <td>8.460824</td>\n",
       "      <td>11f8ea</td>\n",
       "      <td>other</td>\n",
       "      <td>36</td>\n",
       "      <td>71</td>\n",
       "      <td>23</td>\n",
       "      <td>no</td>\n",
       "      <td>no</td>\n",
       "      <td>yes</td>\n",
       "      <td>no</td>\n",
       "      <td>yes</td>\n",
       "      <td>36.9</td>\n",
       "      <td>12:60</td>\n",
       "      <td>71.414402</td>\n",
       "      <td>1.0</td>\n",
       "    </tr>\n",
       "  </tbody>\n",
       "</table>\n",
       "</div>"
      ],
      "text/plain": [
       "  case_id  generation date_infection date_onset date_hospitalisation date_outcome  outcome gender   age age_unit  age_years age_cat age_cat5                              hospital        lon       lat infector source  wt_kg  ht_cm  ct_blood fever chills cough aches vomit  temp time_admission         bmi  days_onset_hosp\n",
       "0  5fe599           4     2014-05-08  May/13/14      Thu May/15/2014          NaT      NaN      m   2.0    years        2.0     0-4      0-4                                 Other -13.215735  8.468973   f547d6  other     27     48        22    no     no   yes    no   yes  36.8            NaN  117.187500              2.0\n",
       "1  8689b7           4            NaN  May/13/14      Wed May/14/2014   2014-05-18  Recover      f   3.0    years        3.0     0-4      0-4                               Missing -13.215234  8.451719      NaN    NaN     25     59        22   NaN    NaN   NaN   NaN   NaN  36.9          09:36   71.818443              1.0\n",
       "2  11f8ea           2            NaN  May/16/14      Sun May/18/2014   2014-05-30  Recover      m  56.0    years       56.0   50-69    55-59  St. Mark's Maternity Hospital (SMMH) -13.212911  8.464817      NaN    NaN     91    238        21   NaN    NaN   NaN   NaN   NaN  36.9          16:48   16.065250              2.0\n",
       "3  b8812a           3     2014-05-04  May/18/14      Tue May/20/2014          NaT      NaN      f  18.0    years       18.0   15-19    15-19                         Port Hospital -13.236371  8.475476   f90f5f  other     41    135        23    no     no    no    no    no  36.8          11:22   22.496571              2.0\n",
       "4  893f25           3     2014-05-18  May/21/14      Thu May/22/2014   2014-05-29  Recover      m   3.0    years        3.0     0-4      0-4                     Military Hospital -13.222864  8.460824   11f8ea  other     36     71        23    no     no   yes    no   yes  36.9          12:60   71.414402              1.0"
      ]
     },
     "execution_count": null,
     "metadata": {},
     "output_type": "execute_result"
    }
   ],
   "source": [
    "df_dp = pd.read_excel('../epiRhandbook_data/linelist_cleaned.xlsx')\n",
    "df_dp['date_infection'] = df_dp['date_infection'].dt.strftime('%Y-%m-%d')  # YYYY-MM-DD\n",
    "df_dp['date_onset'] = df_dp['date_onset'].dt.strftime('%b/%d/%y')  # MMM-DD-YY\n",
    "df_dp['date_hospitalisation'] = df_dp['date_hospitalisation'].dt.strftime('%a %b/%d/%Y')  # DDD DD/MM/YYYY\n",
    "df_dp.head()"
   ]
  },
  {
   "cell_type": "markdown",
   "metadata": {},
   "source": [
    "Tips: For the full list of `strftime` and `strptime` format codes, see https://docs.python.org/3/library/datetime.html#strftime-and-strptime-behavior"
   ]
  },
  {
   "cell_type": "markdown",
   "metadata": {},
   "source": [
    "To convert a 2-digit year into a 4-digit year (all in the same century)"
   ]
  },
  {
   "cell_type": "code",
   "execution_count": null,
   "metadata": {},
   "outputs": [
    {
     "data": {
      "text/plain": [
       "['2015', '2015', '2016', '2017']"
      ]
     },
     "execution_count": null,
     "metadata": {},
     "output_type": "execute_result"
    }
   ],
   "source": [
    "two_digit_years = [\"15\", \"15\", \"16\", \"17\"]\n",
    "['20'+yy for yy in two_digit_years]"
   ]
  },
  {
   "cell_type": "markdown",
   "metadata": {},
   "source": [
    "### Combine columns to create a date column"
   ]
  },
  {
   "cell_type": "code",
   "execution_count": null,
   "metadata": {},
   "outputs": [
    {
     "data": {
      "text/html": [
       "<div>\n",
       "<style scoped>\n",
       "    .dataframe tbody tr th:only-of-type {\n",
       "        vertical-align: middle;\n",
       "    }\n",
       "\n",
       "    .dataframe tbody tr th {\n",
       "        vertical-align: top;\n",
       "    }\n",
       "\n",
       "    .dataframe thead th {\n",
       "        text-align: right;\n",
       "    }\n",
       "</style>\n",
       "<table border=\"1\" class=\"dataframe\">\n",
       "  <thead>\n",
       "    <tr style=\"text-align: right;\">\n",
       "      <th></th>\n",
       "      <th>dd</th>\n",
       "      <th>mm</th>\n",
       "      <th>yy</th>\n",
       "    </tr>\n",
       "  </thead>\n",
       "  <tbody>\n",
       "    <tr>\n",
       "      <th>0</th>\n",
       "      <td>1</td>\n",
       "      <td>5</td>\n",
       "      <td>21</td>\n",
       "    </tr>\n",
       "    <tr>\n",
       "      <th>1</th>\n",
       "      <td>2</td>\n",
       "      <td>6</td>\n",
       "      <td>22</td>\n",
       "    </tr>\n",
       "    <tr>\n",
       "      <th>2</th>\n",
       "      <td>3</td>\n",
       "      <td>7</td>\n",
       "      <td>23</td>\n",
       "    </tr>\n",
       "  </tbody>\n",
       "</table>\n",
       "</div>"
      ],
      "text/plain": [
       "   dd  mm  yy\n",
       "0   1   5  21\n",
       "1   2   6  22\n",
       "2   3   7  23"
      ]
     },
     "execution_count": null,
     "metadata": {},
     "output_type": "execute_result"
    }
   ],
   "source": [
    "dd = [1,2,3]\n",
    "mm = [5,6,7]\n",
    "yy = [21, 22, 23]\n",
    "df = pd.DataFrame(list(zip(dd, mm, yy)), columns = ['dd', 'mm', 'yy'])\n",
    "df"
   ]
  },
  {
   "cell_type": "code",
   "execution_count": null,
   "metadata": {},
   "outputs": [
    {
     "data": {
      "text/html": [
       "<div>\n",
       "<style scoped>\n",
       "    .dataframe tbody tr th:only-of-type {\n",
       "        vertical-align: middle;\n",
       "    }\n",
       "\n",
       "    .dataframe tbody tr th {\n",
       "        vertical-align: top;\n",
       "    }\n",
       "\n",
       "    .dataframe thead th {\n",
       "        text-align: right;\n",
       "    }\n",
       "</style>\n",
       "<table border=\"1\" class=\"dataframe\">\n",
       "  <thead>\n",
       "    <tr style=\"text-align: right;\">\n",
       "      <th></th>\n",
       "      <th>dd</th>\n",
       "      <th>mm</th>\n",
       "      <th>yy</th>\n",
       "      <th>yy-mm-dd</th>\n",
       "    </tr>\n",
       "  </thead>\n",
       "  <tbody>\n",
       "    <tr>\n",
       "      <th>0</th>\n",
       "      <td>1</td>\n",
       "      <td>5</td>\n",
       "      <td>21</td>\n",
       "      <td>2021-01-05</td>\n",
       "    </tr>\n",
       "    <tr>\n",
       "      <th>1</th>\n",
       "      <td>2</td>\n",
       "      <td>6</td>\n",
       "      <td>22</td>\n",
       "      <td>2022-02-06</td>\n",
       "    </tr>\n",
       "    <tr>\n",
       "      <th>2</th>\n",
       "      <td>3</td>\n",
       "      <td>7</td>\n",
       "      <td>23</td>\n",
       "      <td>2023-03-07</td>\n",
       "    </tr>\n",
       "  </tbody>\n",
       "</table>\n",
       "</div>"
      ],
      "text/plain": [
       "   dd  mm  yy   yy-mm-dd\n",
       "0   1   5  21 2021-01-05\n",
       "1   2   6  22 2022-02-06\n",
       "2   3   7  23 2023-03-07"
      ]
     },
     "execution_count": null,
     "metadata": {},
     "output_type": "execute_result"
    }
   ],
   "source": [
    "df['yy-mm-dd'] = pd.to_datetime(df['dd'].astype(str) + \"-\" + \n",
    "                                df['mm'].astype(str) + \"-\" + \n",
    "                                df['yy'].astype(str))\n",
    "df"
   ]
  },
  {
   "cell_type": "markdown",
   "metadata": {},
   "source": [
    "## Excel Dates"
   ]
  },
  {
   "cell_type": "markdown",
   "metadata": {},
   "source": [
    "If the dataset you imported from Excel shows dates as numbers or characters like “41369”, add `origin = '1899-12-30'` when reading the file."
   ]
  },
  {
   "cell_type": "code",
   "execution_count": null,
   "metadata": {},
   "outputs": [],
   "source": [
    "date = [41369, 41370, 41371]"
   ]
  },
  {
   "cell_type": "code",
   "execution_count": null,
   "metadata": {},
   "outputs": [],
   "source": [
    "df = pd.DataFrame(list(date), columns = ['Excel_date'])\n",
    "df.to_excel('Excel_date.xlsx', index=False)"
   ]
  },
  {
   "cell_type": "code",
   "execution_count": null,
   "metadata": {},
   "outputs": [],
   "source": [
    "df = pd.read_excel('Excel_date.xlsx', index_col=False)\n",
    "df['date'] = pd.to_datetime(df['Excel_date'], unit='d', origin='1899-12-30')"
   ]
  },
  {
   "cell_type": "code",
   "execution_count": null,
   "metadata": {},
   "outputs": [
    {
     "data": {
      "text/html": [
       "<div>\n",
       "<style scoped>\n",
       "    .dataframe tbody tr th:only-of-type {\n",
       "        vertical-align: middle;\n",
       "    }\n",
       "\n",
       "    .dataframe tbody tr th {\n",
       "        vertical-align: top;\n",
       "    }\n",
       "\n",
       "    .dataframe thead th {\n",
       "        text-align: right;\n",
       "    }\n",
       "</style>\n",
       "<table border=\"1\" class=\"dataframe\">\n",
       "  <thead>\n",
       "    <tr style=\"text-align: right;\">\n",
       "      <th></th>\n",
       "      <th>Excel_date</th>\n",
       "      <th>date</th>\n",
       "    </tr>\n",
       "  </thead>\n",
       "  <tbody>\n",
       "    <tr>\n",
       "      <th>0</th>\n",
       "      <td>41369</td>\n",
       "      <td>2013-04-05</td>\n",
       "    </tr>\n",
       "    <tr>\n",
       "      <th>1</th>\n",
       "      <td>41370</td>\n",
       "      <td>2013-04-06</td>\n",
       "    </tr>\n",
       "    <tr>\n",
       "      <th>2</th>\n",
       "      <td>41371</td>\n",
       "      <td>2013-04-07</td>\n",
       "    </tr>\n",
       "  </tbody>\n",
       "</table>\n",
       "</div>"
      ],
      "text/plain": [
       "   Excel_date       date\n",
       "0       41369 2013-04-05\n",
       "1       41370 2013-04-06\n",
       "2       41371 2013-04-07"
      ]
     },
     "execution_count": null,
     "metadata": {},
     "output_type": "execute_result"
    }
   ],
   "source": [
    "df"
   ]
  },
  {
   "cell_type": "markdown",
   "metadata": {},
   "source": [
    "## Messy Dates"
   ]
  },
  {
   "cell_type": "code",
   "execution_count": null,
   "metadata": {},
   "outputs": [
    {
     "data": {
      "text/html": [
       "<div>\n",
       "<style scoped>\n",
       "    .dataframe tbody tr th:only-of-type {\n",
       "        vertical-align: middle;\n",
       "    }\n",
       "\n",
       "    .dataframe tbody tr th {\n",
       "        vertical-align: top;\n",
       "    }\n",
       "\n",
       "    .dataframe thead th {\n",
       "        text-align: right;\n",
       "    }\n",
       "</style>\n",
       "<table border=\"1\" class=\"dataframe\">\n",
       "  <thead>\n",
       "    <tr style=\"text-align: right;\">\n",
       "      <th></th>\n",
       "      <th>Messy_date</th>\n",
       "      <th>date</th>\n",
       "    </tr>\n",
       "  </thead>\n",
       "  <tbody>\n",
       "    <tr>\n",
       "      <th>0</th>\n",
       "      <td>03 January 2018</td>\n",
       "      <td>2018-01-03</td>\n",
       "    </tr>\n",
       "    <tr>\n",
       "      <th>1</th>\n",
       "      <td>07/03/1982</td>\n",
       "      <td>1982-07-03</td>\n",
       "    </tr>\n",
       "    <tr>\n",
       "      <th>2</th>\n",
       "      <td>08/20/85</td>\n",
       "      <td>1985-08-20</td>\n",
       "    </tr>\n",
       "  </tbody>\n",
       "</table>\n",
       "</div>"
      ],
      "text/plain": [
       "        Messy_date       date\n",
       "0  03 January 2018 2018-01-03\n",
       "1       07/03/1982 1982-07-03\n",
       "2         08/20/85 1985-08-20"
      ]
     },
     "execution_count": null,
     "metadata": {},
     "output_type": "execute_result"
    }
   ],
   "source": [
    "m_dates = (\"03 January 2018\", \"07/03/1982\", \"08/20/85\")\n",
    "df = pd.DataFrame(list(m_dates), columns = ['Messy_date'])\n",
    "df['date'] = pd.to_datetime(df['Messy_date'])\n",
    "df"
   ]
  },
  {
   "cell_type": "markdown",
   "metadata": {},
   "source": [
    "## Working with Date-time class"
   ]
  },
  {
   "cell_type": "markdown",
   "metadata": {},
   "source": [
    "### Convert dates with times (most of the cases)"
   ]
  },
  {
   "cell_type": "code",
   "execution_count": null,
   "metadata": {},
   "outputs": [],
   "source": [
    "dt_time = (\"2020-01-01 16hrs\", \"2020-01-01 4PM\", \"01 January 2020 16:20\", \n",
    "           \"01 January 2020, 16:20:40\", \"01 January 2020, 16:20:40 PST\")"
   ]
  },
  {
   "cell_type": "code",
   "execution_count": null,
   "metadata": {},
   "outputs": [],
   "source": [
    "df = pd.DataFrame(list(dt_time), columns = ['Date_time'])"
   ]
  },
  {
   "cell_type": "code",
   "execution_count": null,
   "metadata": {},
   "outputs": [
    {
     "name": "stderr",
     "output_type": "stream",
     "text": [
      "/home/ronin/anaconda3/envs/py_epi/lib/python3.10/site-packages/dateutil/parser/_parser.py:1207: UnknownTimezoneWarning: tzname PST identified but not understood.  Pass `tzinfos` argument in order to correctly return a timezone-aware datetime.  In a future version, this will raise an exception.\n",
      "  warnings.warn(\"tzname {tzname} identified but not understood.  \"\n"
     ]
    }
   ],
   "source": [
    "df['PublishDateTime'] = pd.to_datetime(df['Date_time'], \n",
    "                                       errors='coerce')"
   ]
  },
  {
   "cell_type": "code",
   "execution_count": null,
   "metadata": {},
   "outputs": [
    {
     "data": {
      "text/html": [
       "<div>\n",
       "<style scoped>\n",
       "    .dataframe tbody tr th:only-of-type {\n",
       "        vertical-align: middle;\n",
       "    }\n",
       "\n",
       "    .dataframe tbody tr th {\n",
       "        vertical-align: top;\n",
       "    }\n",
       "\n",
       "    .dataframe thead th {\n",
       "        text-align: right;\n",
       "    }\n",
       "</style>\n",
       "<table border=\"1\" class=\"dataframe\">\n",
       "  <thead>\n",
       "    <tr style=\"text-align: right;\">\n",
       "      <th></th>\n",
       "      <th>Date_time</th>\n",
       "      <th>PublishDateTime</th>\n",
       "    </tr>\n",
       "  </thead>\n",
       "  <tbody>\n",
       "    <tr>\n",
       "      <th>0</th>\n",
       "      <td>2020-01-01 16hrs</td>\n",
       "      <td>NaT</td>\n",
       "    </tr>\n",
       "    <tr>\n",
       "      <th>1</th>\n",
       "      <td>2020-01-01 4PM</td>\n",
       "      <td>2020-01-01 16:00:00</td>\n",
       "    </tr>\n",
       "    <tr>\n",
       "      <th>2</th>\n",
       "      <td>01 January 2020 16:20</td>\n",
       "      <td>2020-01-01 16:20:00</td>\n",
       "    </tr>\n",
       "    <tr>\n",
       "      <th>3</th>\n",
       "      <td>01 January 2020, 16:20:40</td>\n",
       "      <td>2020-01-01 16:20:40</td>\n",
       "    </tr>\n",
       "    <tr>\n",
       "      <th>4</th>\n",
       "      <td>01 January 2020, 16:20:40 PST</td>\n",
       "      <td>2020-01-01 16:20:40</td>\n",
       "    </tr>\n",
       "  </tbody>\n",
       "</table>\n",
       "</div>"
      ],
      "text/plain": [
       "                       Date_time     PublishDateTime\n",
       "0               2020-01-01 16hrs                 NaT\n",
       "1                 2020-01-01 4PM 2020-01-01 16:00:00\n",
       "2          01 January 2020 16:20 2020-01-01 16:20:00\n",
       "3      01 January 2020, 16:20:40 2020-01-01 16:20:40\n",
       "4  01 January 2020, 16:20:40 PST 2020-01-01 16:20:40"
      ]
     },
     "execution_count": null,
     "metadata": {},
     "output_type": "execute_result"
    }
   ],
   "source": [
    "df"
   ]
  },
  {
   "cell_type": "markdown",
   "metadata": {},
   "source": [
    "### Convert times alone "
   ]
  },
  {
   "cell_type": "code",
   "execution_count": null,
   "metadata": {},
   "outputs": [],
   "source": [
    "time1 = \"13:45\"\n",
    "time2 = \"15:20\"\n",
    "\n",
    "from datetime import datetime, timedelta"
   ]
  },
  {
   "cell_type": "code",
   "execution_count": null,
   "metadata": {},
   "outputs": [
    {
     "data": {
      "text/plain": [
       "datetime.datetime(1900, 1, 1, 13, 45)"
      ]
     },
     "execution_count": null,
     "metadata": {},
     "output_type": "execute_result"
    }
   ],
   "source": [
    "t1 = datetime.strptime(time1, '%H:%M')\n",
    "t1"
   ]
  },
  {
   "cell_type": "code",
   "execution_count": null,
   "metadata": {},
   "outputs": [
    {
     "data": {
      "text/plain": [
       "datetime.datetime(1900, 1, 1, 15, 20)"
      ]
     },
     "execution_count": null,
     "metadata": {},
     "output_type": "execute_result"
    }
   ],
   "source": [
    "t2 = datetime.strptime(time2, '%H:%M')\n",
    "t2"
   ]
  },
  {
   "cell_type": "code",
   "execution_count": null,
   "metadata": {},
   "outputs": [
    {
     "data": {
      "text/plain": [
       "datetime.timedelta(seconds=5700)"
      ]
     },
     "execution_count": null,
     "metadata": {},
     "output_type": "execute_result"
    }
   ],
   "source": [
    "T=(t2-t1)\n",
    "T"
   ]
  },
  {
   "cell_type": "code",
   "execution_count": null,
   "metadata": {},
   "outputs": [
    {
     "data": {
      "text/plain": [
       "1.5833333333333333"
      ]
     },
     "execution_count": null,
     "metadata": {},
     "output_type": "execute_result"
    }
   ],
   "source": [
    "5700/60/60"
   ]
  },
  {
   "cell_type": "code",
   "execution_count": null,
   "metadata": {},
   "outputs": [],
   "source": [
    "def format_timedelta(td):\n",
    "    minutes, seconds = divmod(td.seconds + td.days * 86400, 60)\n",
    "    hours, minutes = divmod(minutes, 60)\n",
    "    return '{:d}:{:02d}:{:02d}'.format(hours, minutes, seconds)"
   ]
  },
  {
   "cell_type": "code",
   "execution_count": null,
   "metadata": {},
   "outputs": [
    {
     "data": {
      "text/plain": [
       "'1:35:00'"
      ]
     },
     "execution_count": null,
     "metadata": {},
     "output_type": "execute_result"
    }
   ],
   "source": [
    "format_timedelta(T)"
   ]
  },
  {
   "cell_type": "markdown",
   "metadata": {},
   "source": [
    "Alternatively, including microseconds"
   ]
  },
  {
   "cell_type": "code",
   "execution_count": null,
   "metadata": {},
   "outputs": [],
   "source": [
    "def format_timedelta(td):\n",
    "    minutes, seconds = divmod(td.seconds + td.days * 86400, 60)\n",
    "    hours, minutes = divmod(minutes, 60)\n",
    "    return '{:d}:{:02d}:{:02d}.{:06d}'.format(hours, minutes, seconds, td.microseconds)"
   ]
  },
  {
   "cell_type": "code",
   "execution_count": null,
   "metadata": {},
   "outputs": [
    {
     "data": {
      "text/plain": [
       "'1:35:00.000000'"
      ]
     },
     "execution_count": null,
     "metadata": {},
     "output_type": "execute_result"
    }
   ],
   "source": [
    "format_timedelta(T)"
   ]
  },
  {
   "cell_type": "markdown",
   "metadata": {},
   "source": [
    "### Extract time"
   ]
  },
  {
   "cell_type": "code",
   "execution_count": null,
   "metadata": {},
   "outputs": [],
   "source": [
    "hh = list()\n",
    "for i, r in enumerate(linelist['time_admission']):\n",
    "    try:\n",
    "        h = int(r[:2])\n",
    "        if (h > 6) & (h < 12):\n",
    "            hh.append(\"Morning\")\n",
    "        elif (h >= 12) & (h <17):\n",
    "            hh.append(\"Afternoon\")\n",
    "        elif (h >=17) & (h < 21):\n",
    "            hh.append(\"Evening\")\n",
    "        else:\n",
    "            hh.append(\"Night\")\n",
    "    except:\n",
    "        hh.append(\"No info\")"
   ]
  },
  {
   "cell_type": "code",
   "execution_count": null,
   "metadata": {},
   "outputs": [
    {
     "data": {
      "text/plain": [
       "5888"
      ]
     },
     "execution_count": null,
     "metadata": {},
     "output_type": "execute_result"
    }
   ],
   "source": [
    "len(hh)"
   ]
  },
  {
   "cell_type": "code",
   "execution_count": null,
   "metadata": {},
   "outputs": [],
   "source": [
    "m = 0\n",
    "a = 0\n",
    "e = 0\n",
    "n = 0\n",
    "ni = 0\n",
    "for i in hh:\n",
    "    if i == \"Morning\":\n",
    "        m+=1\n",
    "    elif i == \"Afternoon\":\n",
    "        a += 1\n",
    "    elif i == \"Evening\":\n",
    "        e += 1\n",
    "    elif i == \"Night\":\n",
    "        n += 1\n",
    "    elif i == \"No info\":\n",
    "        ni += 1"
   ]
  },
  {
   "cell_type": "code",
   "execution_count": null,
   "metadata": {},
   "outputs": [
    {
     "data": {
      "text/plain": [
       "(1596, 2312, 823, 392, 765, 5888)"
      ]
     },
     "execution_count": null,
     "metadata": {},
     "output_type": "execute_result"
    }
   ],
   "source": [
    "m, a, e, n, ni, m+a+e+n+ni"
   ]
  },
  {
   "cell_type": "markdown",
   "metadata": {},
   "source": [
    "# Working with Dates "
   ]
  },
  {
   "cell_type": "code",
   "execution_count": null,
   "metadata": {},
   "outputs": [
    {
     "data": {
      "text/plain": [
       "datetime.datetime(2023, 1, 4, 0, 0)"
      ]
     },
     "execution_count": null,
     "metadata": {},
     "output_type": "execute_result"
    }
   ],
   "source": [
    "example_date = datetime.strptime(\"2023-01-04\", '%Y-%m-%d')\n",
    "example_date"
   ]
  },
  {
   "cell_type": "markdown",
   "metadata": {},
   "source": [
    "## Extract Date Components"
   ]
  },
  {
   "cell_type": "code",
   "execution_count": null,
   "metadata": {},
   "outputs": [
    {
     "data": {
      "text/plain": [
       "1"
      ]
     },
     "execution_count": null,
     "metadata": {},
     "output_type": "execute_result"
    }
   ],
   "source": [
    "example_date.month  # month number"
   ]
  },
  {
   "cell_type": "code",
   "execution_count": null,
   "metadata": {},
   "outputs": [
    {
     "data": {
      "text/plain": [
       "2023"
      ]
     },
     "execution_count": null,
     "metadata": {},
     "output_type": "execute_result"
    }
   ],
   "source": [
    "example_date.year  # year"
   ]
  },
  {
   "cell_type": "code",
   "execution_count": null,
   "metadata": {},
   "outputs": [
    {
     "data": {
      "text/plain": [
       "4"
      ]
     },
     "execution_count": null,
     "metadata": {},
     "output_type": "execute_result"
    }
   ],
   "source": [
    "example_date.day  # day (number) of the month"
   ]
  },
  {
   "cell_type": "code",
   "execution_count": null,
   "metadata": {},
   "outputs": [
    {
     "data": {
      "text/plain": [
       "2"
      ]
     },
     "execution_count": null,
     "metadata": {},
     "output_type": "execute_result"
    }
   ],
   "source": [
    "example_date.weekday()  # `()` is required in this case  2 == Wednesday"
   ]
  },
  {
   "cell_type": "markdown",
   "metadata": {},
   "source": [
    "To display the date in English"
   ]
  },
  {
   "cell_type": "code",
   "execution_count": null,
   "metadata": {},
   "outputs": [
    {
     "data": {
      "text/plain": [
       "'Wednesday'"
      ]
     },
     "execution_count": null,
     "metadata": {},
     "output_type": "execute_result"
    }
   ],
   "source": [
    "import calendar\n",
    "my_date = datetime.today()\n",
    "calendar.day_name[my_date.weekday()]  "
   ]
  },
  {
   "cell_type": "markdown",
   "metadata": {},
   "source": [
    "## Date Math"
   ]
  },
  {
   "cell_type": "code",
   "execution_count": null,
   "metadata": {},
   "outputs": [
    {
     "data": {
      "text/plain": [
       "datetime.datetime(2023, 1, 7, 0, 0)"
      ]
     },
     "execution_count": null,
     "metadata": {},
     "output_type": "execute_result"
    }
   ],
   "source": [
    "example_date + timedelta(days=3)"
   ]
  },
  {
   "cell_type": "code",
   "execution_count": null,
   "metadata": {},
   "outputs": [
    {
     "data": {
      "text/plain": [
       "datetime.datetime(2023, 1, 16, 0, 0)"
      ]
     },
     "execution_count": null,
     "metadata": {},
     "output_type": "execute_result"
    }
   ],
   "source": [
    "example_date + timedelta(weeks=2, days=-2)"
   ]
  },
  {
   "cell_type": "markdown",
   "metadata": {},
   "source": [
    "## Date intervals"
   ]
  },
  {
   "cell_type": "code",
   "execution_count": null,
   "metadata": {},
   "outputs": [
    {
     "data": {
      "text/plain": [
       "datetime.timedelta(days=318)"
      ]
     },
     "execution_count": null,
     "metadata": {},
     "output_type": "execute_result"
    }
   ],
   "source": [
    "output = example_date - datetime.strptime(\"2022-02-20\", '%Y-%m-%d')\n",
    "output"
   ]
  },
  {
   "cell_type": "code",
   "execution_count": null,
   "metadata": {},
   "outputs": [
    {
     "data": {
      "text/html": [
       "<div>\n",
       "<style scoped>\n",
       "    .dataframe tbody tr th:only-of-type {\n",
       "        vertical-align: middle;\n",
       "    }\n",
       "\n",
       "    .dataframe tbody tr th {\n",
       "        vertical-align: top;\n",
       "    }\n",
       "\n",
       "    .dataframe thead th {\n",
       "        text-align: right;\n",
       "    }\n",
       "</style>\n",
       "<table border=\"1\" class=\"dataframe\">\n",
       "  <thead>\n",
       "    <tr style=\"text-align: right;\">\n",
       "      <th></th>\n",
       "      <th>date_onset</th>\n",
       "      <th>date_hospitalisation</th>\n",
       "    </tr>\n",
       "  </thead>\n",
       "  <tbody>\n",
       "    <tr>\n",
       "      <th>0</th>\n",
       "      <td>2014-05-13</td>\n",
       "      <td>2014-05-15</td>\n",
       "    </tr>\n",
       "    <tr>\n",
       "      <th>1</th>\n",
       "      <td>2014-05-13</td>\n",
       "      <td>2014-05-14</td>\n",
       "    </tr>\n",
       "    <tr>\n",
       "      <th>2</th>\n",
       "      <td>2014-05-16</td>\n",
       "      <td>2014-05-18</td>\n",
       "    </tr>\n",
       "    <tr>\n",
       "      <th>3</th>\n",
       "      <td>2014-05-18</td>\n",
       "      <td>2014-05-20</td>\n",
       "    </tr>\n",
       "    <tr>\n",
       "      <th>4</th>\n",
       "      <td>2014-05-21</td>\n",
       "      <td>2014-05-22</td>\n",
       "    </tr>\n",
       "  </tbody>\n",
       "</table>\n",
       "</div>"
      ],
      "text/plain": [
       "  date_onset date_hospitalisation\n",
       "0 2014-05-13           2014-05-15\n",
       "1 2014-05-13           2014-05-14\n",
       "2 2014-05-16           2014-05-18\n",
       "3 2014-05-18           2014-05-20\n",
       "4 2014-05-21           2014-05-22"
      ]
     },
     "execution_count": null,
     "metadata": {},
     "output_type": "execute_result"
    }
   ],
   "source": [
    "df_di = linelist[['date_onset', 'date_hospitalisation']]\n",
    "df_di.head()"
   ]
  },
  {
   "cell_type": "code",
   "execution_count": null,
   "metadata": {},
   "outputs": [
    {
     "data": {
      "text/html": [
       "<div>\n",
       "<style scoped>\n",
       "    .dataframe tbody tr th:only-of-type {\n",
       "        vertical-align: middle;\n",
       "    }\n",
       "\n",
       "    .dataframe tbody tr th {\n",
       "        vertical-align: top;\n",
       "    }\n",
       "\n",
       "    .dataframe thead th {\n",
       "        text-align: right;\n",
       "    }\n",
       "</style>\n",
       "<table border=\"1\" class=\"dataframe\">\n",
       "  <thead>\n",
       "    <tr style=\"text-align: right;\">\n",
       "      <th></th>\n",
       "      <th>date_onset</th>\n",
       "      <th>date_hospitalisation</th>\n",
       "    </tr>\n",
       "  </thead>\n",
       "  <tbody>\n",
       "    <tr>\n",
       "      <th>993</th>\n",
       "      <td>2015-03-01</td>\n",
       "      <td>2015-03-02</td>\n",
       "    </tr>\n",
       "    <tr>\n",
       "      <th>994</th>\n",
       "      <td>2015-03-01</td>\n",
       "      <td>2015-03-02</td>\n",
       "    </tr>\n",
       "    <tr>\n",
       "      <th>995</th>\n",
       "      <td>2015-03-01</td>\n",
       "      <td>2015-03-01</td>\n",
       "    </tr>\n",
       "    <tr>\n",
       "      <th>996</th>\n",
       "      <td>2015-03-02</td>\n",
       "      <td>2015-03-04</td>\n",
       "    </tr>\n",
       "    <tr>\n",
       "      <th>997</th>\n",
       "      <td>2015-03-02</td>\n",
       "      <td>2015-03-03</td>\n",
       "    </tr>\n",
       "    <tr>\n",
       "      <th>...</th>\n",
       "      <td>...</td>\n",
       "      <td>...</td>\n",
       "    </tr>\n",
       "    <tr>\n",
       "      <th>5864</th>\n",
       "      <td>2015-03-26</td>\n",
       "      <td>2015-03-29</td>\n",
       "    </tr>\n",
       "    <tr>\n",
       "      <th>5865</th>\n",
       "      <td>2015-03-27</td>\n",
       "      <td>2015-03-30</td>\n",
       "    </tr>\n",
       "    <tr>\n",
       "      <th>5866</th>\n",
       "      <td>2015-03-27</td>\n",
       "      <td>2015-03-31</td>\n",
       "    </tr>\n",
       "    <tr>\n",
       "      <th>5867</th>\n",
       "      <td>2015-03-27</td>\n",
       "      <td>2015-03-30</td>\n",
       "    </tr>\n",
       "    <tr>\n",
       "      <th>5868</th>\n",
       "      <td>2015-03-30</td>\n",
       "      <td>2015-04-02</td>\n",
       "    </tr>\n",
       "  </tbody>\n",
       "</table>\n",
       "<p>277 rows × 2 columns</p>\n",
       "</div>"
      ],
      "text/plain": [
       "     date_onset date_hospitalisation\n",
       "993  2015-03-01           2015-03-02\n",
       "994  2015-03-01           2015-03-02\n",
       "995  2015-03-01           2015-03-01\n",
       "996  2015-03-02           2015-03-04\n",
       "997  2015-03-02           2015-03-03\n",
       "...         ...                  ...\n",
       "5864 2015-03-26           2015-03-29\n",
       "5865 2015-03-27           2015-03-30\n",
       "5866 2015-03-27           2015-03-31\n",
       "5867 2015-03-27           2015-03-30\n",
       "5868 2015-03-30           2015-04-02\n",
       "\n",
       "[277 rows x 2 columns]"
      ]
     },
     "execution_count": null,
     "metadata": {},
     "output_type": "execute_result"
    }
   ],
   "source": [
    "df_march = df_di[df_di['date_onset'].dt.month == 3]\n",
    "df_march"
   ]
  },
  {
   "cell_type": "code",
   "execution_count": null,
   "metadata": {},
   "outputs": [],
   "source": [
    "df_mar = df_march.copy(deep=True)"
   ]
  },
  {
   "cell_type": "code",
   "execution_count": null,
   "metadata": {},
   "outputs": [
    {
     "data": {
      "text/html": [
       "<div>\n",
       "<style scoped>\n",
       "    .dataframe tbody tr th:only-of-type {\n",
       "        vertical-align: middle;\n",
       "    }\n",
       "\n",
       "    .dataframe tbody tr th {\n",
       "        vertical-align: top;\n",
       "    }\n",
       "\n",
       "    .dataframe thead th {\n",
       "        text-align: right;\n",
       "    }\n",
       "</style>\n",
       "<table border=\"1\" class=\"dataframe\">\n",
       "  <thead>\n",
       "    <tr style=\"text-align: right;\">\n",
       "      <th></th>\n",
       "      <th>date_onset</th>\n",
       "      <th>date_hospitalisation</th>\n",
       "    </tr>\n",
       "  </thead>\n",
       "  <tbody>\n",
       "    <tr>\n",
       "      <th>993</th>\n",
       "      <td>True</td>\n",
       "      <td>True</td>\n",
       "    </tr>\n",
       "    <tr>\n",
       "      <th>994</th>\n",
       "      <td>True</td>\n",
       "      <td>True</td>\n",
       "    </tr>\n",
       "    <tr>\n",
       "      <th>995</th>\n",
       "      <td>True</td>\n",
       "      <td>True</td>\n",
       "    </tr>\n",
       "    <tr>\n",
       "      <th>996</th>\n",
       "      <td>True</td>\n",
       "      <td>True</td>\n",
       "    </tr>\n",
       "    <tr>\n",
       "      <th>997</th>\n",
       "      <td>True</td>\n",
       "      <td>True</td>\n",
       "    </tr>\n",
       "    <tr>\n",
       "      <th>...</th>\n",
       "      <td>...</td>\n",
       "      <td>...</td>\n",
       "    </tr>\n",
       "    <tr>\n",
       "      <th>5864</th>\n",
       "      <td>True</td>\n",
       "      <td>True</td>\n",
       "    </tr>\n",
       "    <tr>\n",
       "      <th>5865</th>\n",
       "      <td>True</td>\n",
       "      <td>True</td>\n",
       "    </tr>\n",
       "    <tr>\n",
       "      <th>5866</th>\n",
       "      <td>True</td>\n",
       "      <td>True</td>\n",
       "    </tr>\n",
       "    <tr>\n",
       "      <th>5867</th>\n",
       "      <td>True</td>\n",
       "      <td>True</td>\n",
       "    </tr>\n",
       "    <tr>\n",
       "      <th>5868</th>\n",
       "      <td>True</td>\n",
       "      <td>True</td>\n",
       "    </tr>\n",
       "  </tbody>\n",
       "</table>\n",
       "<p>277 rows × 2 columns</p>\n",
       "</div>"
      ],
      "text/plain": [
       "      date_onset  date_hospitalisation\n",
       "993         True                  True\n",
       "994         True                  True\n",
       "995         True                  True\n",
       "996         True                  True\n",
       "997         True                  True\n",
       "...          ...                   ...\n",
       "5864        True                  True\n",
       "5865        True                  True\n",
       "5866        True                  True\n",
       "5867        True                  True\n",
       "5868        True                  True\n",
       "\n",
       "[277 rows x 2 columns]"
      ]
     },
     "execution_count": null,
     "metadata": {},
     "output_type": "execute_result"
    }
   ],
   "source": [
    "df_mar.notnull()"
   ]
  },
  {
   "cell_type": "code",
   "execution_count": null,
   "metadata": {},
   "outputs": [
    {
     "data": {
      "text/html": [
       "<div>\n",
       "<style scoped>\n",
       "    .dataframe tbody tr th:only-of-type {\n",
       "        vertical-align: middle;\n",
       "    }\n",
       "\n",
       "    .dataframe tbody tr th {\n",
       "        vertical-align: top;\n",
       "    }\n",
       "\n",
       "    .dataframe thead th {\n",
       "        text-align: right;\n",
       "    }\n",
       "</style>\n",
       "<table border=\"1\" class=\"dataframe\">\n",
       "  <thead>\n",
       "    <tr style=\"text-align: right;\">\n",
       "      <th></th>\n",
       "      <th>date_onset</th>\n",
       "      <th>date_hospitalisation</th>\n",
       "      <th>days_onset_to_hosp</th>\n",
       "    </tr>\n",
       "  </thead>\n",
       "  <tbody>\n",
       "    <tr>\n",
       "      <th>993</th>\n",
       "      <td>2015-03-01</td>\n",
       "      <td>2015-03-02</td>\n",
       "      <td>1 days</td>\n",
       "    </tr>\n",
       "    <tr>\n",
       "      <th>994</th>\n",
       "      <td>2015-03-01</td>\n",
       "      <td>2015-03-02</td>\n",
       "      <td>1 days</td>\n",
       "    </tr>\n",
       "    <tr>\n",
       "      <th>995</th>\n",
       "      <td>2015-03-01</td>\n",
       "      <td>2015-03-01</td>\n",
       "      <td>0 days</td>\n",
       "    </tr>\n",
       "    <tr>\n",
       "      <th>996</th>\n",
       "      <td>2015-03-02</td>\n",
       "      <td>2015-03-04</td>\n",
       "      <td>2 days</td>\n",
       "    </tr>\n",
       "    <tr>\n",
       "      <th>997</th>\n",
       "      <td>2015-03-02</td>\n",
       "      <td>2015-03-03</td>\n",
       "      <td>1 days</td>\n",
       "    </tr>\n",
       "    <tr>\n",
       "      <th>...</th>\n",
       "      <td>...</td>\n",
       "      <td>...</td>\n",
       "      <td>...</td>\n",
       "    </tr>\n",
       "    <tr>\n",
       "      <th>5864</th>\n",
       "      <td>2015-03-26</td>\n",
       "      <td>2015-03-29</td>\n",
       "      <td>3 days</td>\n",
       "    </tr>\n",
       "    <tr>\n",
       "      <th>5865</th>\n",
       "      <td>2015-03-27</td>\n",
       "      <td>2015-03-30</td>\n",
       "      <td>3 days</td>\n",
       "    </tr>\n",
       "    <tr>\n",
       "      <th>5866</th>\n",
       "      <td>2015-03-27</td>\n",
       "      <td>2015-03-31</td>\n",
       "      <td>4 days</td>\n",
       "    </tr>\n",
       "    <tr>\n",
       "      <th>5867</th>\n",
       "      <td>2015-03-27</td>\n",
       "      <td>2015-03-30</td>\n",
       "      <td>3 days</td>\n",
       "    </tr>\n",
       "    <tr>\n",
       "      <th>5868</th>\n",
       "      <td>2015-03-30</td>\n",
       "      <td>2015-04-02</td>\n",
       "      <td>3 days</td>\n",
       "    </tr>\n",
       "  </tbody>\n",
       "</table>\n",
       "<p>277 rows × 3 columns</p>\n",
       "</div>"
      ],
      "text/plain": [
       "     date_onset date_hospitalisation days_onset_to_hosp\n",
       "993  2015-03-01           2015-03-02             1 days\n",
       "994  2015-03-01           2015-03-02             1 days\n",
       "995  2015-03-01           2015-03-01             0 days\n",
       "996  2015-03-02           2015-03-04             2 days\n",
       "997  2015-03-02           2015-03-03             1 days\n",
       "...         ...                  ...                ...\n",
       "5864 2015-03-26           2015-03-29             3 days\n",
       "5865 2015-03-27           2015-03-30             3 days\n",
       "5866 2015-03-27           2015-03-31             4 days\n",
       "5867 2015-03-27           2015-03-30             3 days\n",
       "5868 2015-03-30           2015-04-02             3 days\n",
       "\n",
       "[277 rows x 3 columns]"
      ]
     },
     "execution_count": null,
     "metadata": {},
     "output_type": "execute_result"
    }
   ],
   "source": [
    "df_mar['days_onset_to_hosp'] = df_mar['date_hospitalisation'] - df_mar['date_onset']\n",
    "df_mar"
   ]
  },
  {
   "cell_type": "code",
   "execution_count": null,
   "metadata": {},
   "outputs": [
    {
     "data": {
      "text/plain": [
       "Timedelta('1 days 00:00:00')"
      ]
     },
     "execution_count": null,
     "metadata": {},
     "output_type": "execute_result"
    }
   ],
   "source": [
    "df_mar['days_onset_to_hosp'].median(skipna=True)"
   ]
  },
  {
   "cell_type": "code",
   "execution_count": null,
   "metadata": {},
   "outputs": [
    {
     "data": {
      "text/plain": [
       "Timedelta('1 days 00:00:00')"
      ]
     },
     "execution_count": null,
     "metadata": {},
     "output_type": "execute_result"
    }
   ],
   "source": [
    "df_mar['days_onset_to_hosp'].median()"
   ]
  },
  {
   "cell_type": "markdown",
   "metadata": {},
   "source": [
    "# Date display"
   ]
  },
  {
   "cell_type": "code",
   "execution_count": null,
   "metadata": {},
   "outputs": [
    {
     "data": {
      "text/plain": [
       "datetime.date(2023, 1, 4)"
      ]
     },
     "execution_count": null,
     "metadata": {},
     "output_type": "execute_result"
    }
   ],
   "source": [
    "current_date = datetime.now().date()\n",
    "current_date"
   ]
  },
  {
   "cell_type": "code",
   "execution_count": null,
   "metadata": {},
   "outputs": [
    {
     "data": {
      "text/plain": [
       "'04 January 2023'"
      ]
     },
     "execution_count": null,
     "metadata": {},
     "output_type": "execute_result"
    }
   ],
   "source": [
    "formatted_date = current_date.strftime('%d %B %Y')\n",
    "formatted_date"
   ]
  },
  {
   "cell_type": "markdown",
   "metadata": {},
   "source": [
    "This will output the week number starting from the first week of the year, according to the ISO-8601 standard:"
   ]
  },
  {
   "cell_type": "code",
   "execution_count": null,
   "metadata": {},
   "outputs": [
    {
     "data": {
      "text/plain": [
       "1"
      ]
     },
     "execution_count": null,
     "metadata": {},
     "output_type": "execute_result"
    }
   ],
   "source": [
    "weeks = current_date.isocalendar()[1]\n",
    "weeks"
   ]
  },
  {
   "cell_type": "code",
   "execution_count": null,
   "metadata": {},
   "outputs": [
    {
     "data": {
      "text/plain": [
       "datetime.datetime(2023, 1, 4, 18, 31, 46, 80475)"
      ]
     },
     "execution_count": null,
     "metadata": {},
     "output_type": "execute_result"
    }
   ],
   "source": [
    "current_date_time = datetime.now()\n",
    "current_date_time"
   ]
  },
  {
   "cell_type": "code",
   "execution_count": null,
   "metadata": {},
   "outputs": [
    {
     "data": {
      "text/plain": [
       "'Wednesday, January 04 2023, , , 18:31:46'"
      ]
     },
     "execution_count": null,
     "metadata": {},
     "output_type": "execute_result"
    }
   ],
   "source": [
    "formatted_date_time = current_date_time.strftime('%A, %B %d %Y, %z, %Z, %H:%M:%S')\n",
    "formatted_date_time"
   ]
  },
  {
   "cell_type": "markdown",
   "metadata": {},
   "source": [
    "#TODO need to make sure systemd setup correctly.  "
   ]
  },
  {
   "cell_type": "code",
   "execution_count": null,
   "metadata": {},
   "outputs": [
    {
     "ename": "AttributeError",
     "evalue": "type object 'datetime.datetime' has no attribute 'timezone'",
     "output_type": "error",
     "traceback": [
      "\u001b[0;31m---------------------------------------------------------------------------\u001b[0m",
      "\u001b[0;31mAttributeError\u001b[0m                            Traceback (most recent call last)",
      "Input \u001b[0;32mIn [56]\u001b[0m, in \u001b[0;36m<cell line: 6>\u001b[0;34m()\u001b[0m\n\u001b[1;32m      3\u001b[0m local_time \u001b[38;5;241m=\u001b[39m datetime\u001b[38;5;241m.\u001b[39mnow()\n\u001b[1;32m      5\u001b[0m \u001b[38;5;66;03m# get the current timezone\u001b[39;00m\n\u001b[0;32m----> 6\u001b[0m local_tz \u001b[38;5;241m=\u001b[39m pytz\u001b[38;5;241m.\u001b[39mtimezone(datetime\u001b[38;5;241m.\u001b[39mnow(\u001b[43mdatetime\u001b[49m\u001b[38;5;241;43m.\u001b[39;49m\u001b[43mtimezone\u001b[49m\u001b[38;5;241m.\u001b[39mutc)\u001b[38;5;241m.\u001b[39mastimezone()\u001b[38;5;241m.\u001b[39mtzname())\n\u001b[1;32m      8\u001b[0m \u001b[38;5;66;03m# convert the local time to the specified timezone\u001b[39;00m\n\u001b[1;32m      9\u001b[0m specified_tz \u001b[38;5;241m=\u001b[39m local_tz\u001b[38;5;241m.\u001b[39mnormalize(local_tz\u001b[38;5;241m.\u001b[39mlocalize(local_time, is_dst\u001b[38;5;241m=\u001b[39m\u001b[38;5;28;01mNone\u001b[39;00m))\n",
      "\u001b[0;31mAttributeError\u001b[0m: type object 'datetime.datetime' has no attribute 'timezone'"
     ]
    }
   ],
   "source": [
    "import pytz\n",
    "\n",
    "local_time = datetime.now()\n",
    "\n",
    "# get the current timezone\n",
    "local_tz = pytz.timezone(datetime.now(datetime.timezone.utc).astimezone().tzname())\n",
    "\n",
    "# convert the local time to the specified timezone\n",
    "specified_tz = local_tz.normalize(local_tz.localize(local_time, is_dst=None))\n",
    "\n",
    "# format the time zone offset\n",
    "offset_str = specified_tz.strftime('%z')\n",
    "print(offset_str)\n",
    "\n",
    "# format the time zone name\n",
    "tz_name = specified_tz.tzname()\n",
    "print(tz_name)"
   ]
  },
  {
   "cell_type": "markdown",
   "metadata": {},
   "source": [
    "## Month-year"
   ]
  },
  {
   "cell_type": "code",
   "execution_count": null,
   "metadata": {},
   "outputs": [
    {
     "data": {
      "text/html": [
       "<div>\n",
       "<style scoped>\n",
       "    .dataframe tbody tr th:only-of-type {\n",
       "        vertical-align: middle;\n",
       "    }\n",
       "\n",
       "    .dataframe tbody tr th {\n",
       "        vertical-align: top;\n",
       "    }\n",
       "\n",
       "    .dataframe thead th {\n",
       "        text-align: right;\n",
       "    }\n",
       "</style>\n",
       "<table border=\"1\" class=\"dataframe\">\n",
       "  <thead>\n",
       "    <tr style=\"text-align: right;\">\n",
       "      <th></th>\n",
       "      <th>month_year</th>\n",
       "      <th>count</th>\n",
       "    </tr>\n",
       "  </thead>\n",
       "  <tbody>\n",
       "    <tr>\n",
       "      <th>0</th>\n",
       "      <td>Apr 2014</td>\n",
       "      <td>7</td>\n",
       "    </tr>\n",
       "    <tr>\n",
       "      <th>1</th>\n",
       "      <td>Apr 2015</td>\n",
       "      <td>186</td>\n",
       "    </tr>\n",
       "    <tr>\n",
       "      <th>2</th>\n",
       "      <td>Aug 2014</td>\n",
       "      <td>528</td>\n",
       "    </tr>\n",
       "    <tr>\n",
       "      <th>3</th>\n",
       "      <td>Dec 2014</td>\n",
       "      <td>562</td>\n",
       "    </tr>\n",
       "    <tr>\n",
       "      <th>4</th>\n",
       "      <td>Feb 2015</td>\n",
       "      <td>306</td>\n",
       "    </tr>\n",
       "    <tr>\n",
       "      <th>5</th>\n",
       "      <td>Jan 2015</td>\n",
       "      <td>431</td>\n",
       "    </tr>\n",
       "    <tr>\n",
       "      <th>6</th>\n",
       "      <td>Jul 2014</td>\n",
       "      <td>226</td>\n",
       "    </tr>\n",
       "    <tr>\n",
       "      <th>7</th>\n",
       "      <td>Jun 2014</td>\n",
       "      <td>100</td>\n",
       "    </tr>\n",
       "    <tr>\n",
       "      <th>8</th>\n",
       "      <td>Mar 2015</td>\n",
       "      <td>277</td>\n",
       "    </tr>\n",
       "    <tr>\n",
       "      <th>9</th>\n",
       "      <td>May 2014</td>\n",
       "      <td>64</td>\n",
       "    </tr>\n",
       "    <tr>\n",
       "      <th>10</th>\n",
       "      <td>Nov 2014</td>\n",
       "      <td>763</td>\n",
       "    </tr>\n",
       "    <tr>\n",
       "      <th>11</th>\n",
       "      <td>Oct 2014</td>\n",
       "      <td>1112</td>\n",
       "    </tr>\n",
       "    <tr>\n",
       "      <th>12</th>\n",
       "      <td>Sep 2014</td>\n",
       "      <td>1070</td>\n",
       "    </tr>\n",
       "  </tbody>\n",
       "</table>\n",
       "</div>"
      ],
      "text/plain": [
       "   month_year  count\n",
       "0    Apr 2014      7\n",
       "1    Apr 2015    186\n",
       "2    Aug 2014    528\n",
       "3    Dec 2014    562\n",
       "4    Feb 2015    306\n",
       "5    Jan 2015    431\n",
       "6    Jul 2014    226\n",
       "7    Jun 2014    100\n",
       "8    Mar 2015    277\n",
       "9    May 2014     64\n",
       "10   Nov 2014    763\n",
       "11   Oct 2014   1112\n",
       "12   Sep 2014   1070"
      ]
     },
     "execution_count": null,
     "metadata": {},
     "output_type": "execute_result"
    }
   ],
   "source": [
    "s = pd.Series(linelist['date_onset'])\n",
    "\n",
    "# Convert the values in the series to datetime objects\n",
    "s = pd.to_datetime(s)\n",
    "\n",
    "# Extract the month and year from the datetime values\n",
    "s = s.dt.strftime('%b %Y')\n",
    "\n",
    "# Count the number of occurrences of each unique value\n",
    "counts = s.value_counts()\n",
    "\n",
    "# Sort the counts by the month and year\n",
    "counts = counts.sort_index()\n",
    "\n",
    "# Reset the index of the counts, so that the unique values become columns\n",
    "counts = counts.reset_index()\n",
    "\n",
    "# Rename the columns\n",
    "counts.columns = ['month_year', 'count']\n",
    "\n",
    "counts"
   ]
  },
  {
   "cell_type": "code",
   "execution_count": null,
   "metadata": {},
   "outputs": [
    {
     "data": {
      "text/html": [
       "<div>\n",
       "<style scoped>\n",
       "    .dataframe tbody tr th:only-of-type {\n",
       "        vertical-align: middle;\n",
       "    }\n",
       "\n",
       "    .dataframe tbody tr th {\n",
       "        vertical-align: top;\n",
       "    }\n",
       "\n",
       "    .dataframe thead th {\n",
       "        text-align: right;\n",
       "    }\n",
       "</style>\n",
       "<table border=\"1\" class=\"dataframe\">\n",
       "  <thead>\n",
       "    <tr style=\"text-align: right;\">\n",
       "      <th></th>\n",
       "      <th>month_year</th>\n",
       "      <th>count</th>\n",
       "    </tr>\n",
       "  </thead>\n",
       "  <tbody>\n",
       "    <tr>\n",
       "      <th>0</th>\n",
       "      <td>2014-04-01</td>\n",
       "      <td>7</td>\n",
       "    </tr>\n",
       "    <tr>\n",
       "      <th>9</th>\n",
       "      <td>2014-05-01</td>\n",
       "      <td>64</td>\n",
       "    </tr>\n",
       "    <tr>\n",
       "      <th>7</th>\n",
       "      <td>2014-06-01</td>\n",
       "      <td>100</td>\n",
       "    </tr>\n",
       "    <tr>\n",
       "      <th>6</th>\n",
       "      <td>2014-07-01</td>\n",
       "      <td>226</td>\n",
       "    </tr>\n",
       "    <tr>\n",
       "      <th>2</th>\n",
       "      <td>2014-08-01</td>\n",
       "      <td>528</td>\n",
       "    </tr>\n",
       "    <tr>\n",
       "      <th>12</th>\n",
       "      <td>2014-09-01</td>\n",
       "      <td>1070</td>\n",
       "    </tr>\n",
       "    <tr>\n",
       "      <th>11</th>\n",
       "      <td>2014-10-01</td>\n",
       "      <td>1112</td>\n",
       "    </tr>\n",
       "    <tr>\n",
       "      <th>10</th>\n",
       "      <td>2014-11-01</td>\n",
       "      <td>763</td>\n",
       "    </tr>\n",
       "    <tr>\n",
       "      <th>3</th>\n",
       "      <td>2014-12-01</td>\n",
       "      <td>562</td>\n",
       "    </tr>\n",
       "    <tr>\n",
       "      <th>5</th>\n",
       "      <td>2015-01-01</td>\n",
       "      <td>431</td>\n",
       "    </tr>\n",
       "    <tr>\n",
       "      <th>4</th>\n",
       "      <td>2015-02-01</td>\n",
       "      <td>306</td>\n",
       "    </tr>\n",
       "    <tr>\n",
       "      <th>8</th>\n",
       "      <td>2015-03-01</td>\n",
       "      <td>277</td>\n",
       "    </tr>\n",
       "    <tr>\n",
       "      <th>1</th>\n",
       "      <td>2015-04-01</td>\n",
       "      <td>186</td>\n",
       "    </tr>\n",
       "  </tbody>\n",
       "</table>\n",
       "</div>"
      ],
      "text/plain": [
       "   month_year  count\n",
       "0  2014-04-01      7\n",
       "9  2014-05-01     64\n",
       "7  2014-06-01    100\n",
       "6  2014-07-01    226\n",
       "2  2014-08-01    528\n",
       "12 2014-09-01   1070\n",
       "11 2014-10-01   1112\n",
       "10 2014-11-01    763\n",
       "3  2014-12-01    562\n",
       "5  2015-01-01    431\n",
       "4  2015-02-01    306\n",
       "8  2015-03-01    277\n",
       "1  2015-04-01    186"
      ]
     },
     "execution_count": null,
     "metadata": {},
     "output_type": "execute_result"
    }
   ],
   "source": [
    "df = pd.DataFrame(counts)\n",
    "df['month_year'] = pd.to_datetime(df['month_year'])\n",
    "df.sort_values(by='month_year')"
   ]
  },
  {
   "cell_type": "markdown",
   "metadata": {},
   "source": [
    "## Epidemiological weeks"
   ]
  },
  {
   "cell_type": "code",
   "execution_count": null,
   "metadata": {},
   "outputs": [],
   "source": []
  },
  {
   "cell_type": "code",
   "execution_count": null,
   "metadata": {},
   "outputs": [],
   "source": []
  },
  {
   "cell_type": "code",
   "execution_count": null,
   "metadata": {},
   "outputs": [],
   "source": []
  },
  {
   "cell_type": "code",
   "execution_count": null,
   "metadata": {},
   "outputs": [],
   "source": []
  },
  {
   "cell_type": "code",
   "execution_count": null,
   "metadata": {},
   "outputs": [],
   "source": [
    "#| hide\n",
    "nbdev_export()"
   ]
  },
  {
   "cell_type": "code",
   "execution_count": null,
   "metadata": {},
   "outputs": [],
   "source": []
  }
 ],
 "metadata": {
  "kernelspec": {
   "display_name": "Python 3 (ipykernel)",
   "language": "python",
   "name": "python3"
  }
 },
 "nbformat": 4,
 "nbformat_minor": 4
}
